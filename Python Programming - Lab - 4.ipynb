{
 "cells": [
  {
   "cell_type": "markdown",
   "metadata": {},
   "source": [
    "\n",
    "<a href='https://www.darshan.ac.in/'> <img src='https://www.darshan.ac.in/Content/media/DU_Logo.svg' width=\"250\" height=\"300\"/></a>\n",
    "<pre>\n",
    "<center><b><h1>Python Programming - 2101CS405</b></center>\n",
    "<center><b><h1>Lab - 4</b></center>    \n",
    "<pre>"
   ]
  },
  {
   "cell_type": "markdown",
   "metadata": {},
   "source": [
    "# String"
   ]
  },
  {
   "cell_type": "markdown",
   "metadata": {},
   "source": [
    "### 01) WAP to check given string is palindrome or not."
   ]
  },
  {
   "cell_type": "code",
   "execution_count": 11,
   "metadata": {},
   "outputs": [
    {
     "name": "stdout",
     "output_type": "stream",
     "text": [
      "Enter String:ama\n",
      "String is palidrome\n"
     ]
    }
   ],
   "source": [
    "a = input(\"Enter String:\")\n",
    "x = a[::-1]\n",
    "if x==a:\n",
    "    print(\"String is palidrome\")\n",
    "else:\n",
    "    print(\"String is not palidrome\")"
   ]
  },
  {
   "cell_type": "markdown",
   "metadata": {},
   "source": [
    "02) WAP to reverse the words in given string."
   ]
  },
  {
   "cell_type": "code",
   "execution_count": 14,
   "metadata": {},
   "outputs": [
    {
     "name": "stdout",
     "output_type": "stream",
     "text": [
      "Enter String:adh sjj\n",
      "sjj adh\n"
     ]
    }
   ],
   "source": [
    "a = input(\"Enter String:\")\n",
    "x = a.split()\n",
    "x.reverse()\n",
    "print(\" \".join(x))"
   ]
  },
  {
   "cell_type": "markdown",
   "metadata": {},
   "source": [
    "### 03) WAP to remove ith character from given string"
   ]
  },
  {
   "cell_type": "code",
   "execution_count": 16,
   "metadata": {},
   "outputs": [
    {
     "name": "stdout",
     "output_type": "stream",
     "text": [
      "Enter String:archi\n",
      "Enter ith element remove:2\n",
      "REmove ith element:arhi\n"
     ]
    }
   ],
   "source": [
    "x = input(\"Enter String:\")\n",
    "y = input(\"Enter ith element remove:\")\n",
    "z = int(y)\n",
    "new_str = x[:z]+x[z+1:]\n",
    "print(\"REmove ith element:{}\".format(new_str))"
   ]
  },
  {
   "cell_type": "markdown",
   "metadata": {},
   "source": [
    "### 04) WAP to find length of String without using len function."
   ]
  },
  {
   "cell_type": "code",
   "execution_count": 19,
   "metadata": {},
   "outputs": [
    {
     "name": "stdout",
     "output_type": "stream",
     "text": [
      "Enter String:ajdbjues\n",
      "Length of string:8\n"
     ]
    }
   ],
   "source": [
    "x = input(\"Enter String:\")\n",
    "count =0\n",
    "for i in x:\n",
    "    count+=1\n",
    "print(\"Length of string:{}\".format(count))"
   ]
  },
  {
   "cell_type": "markdown",
   "metadata": {},
   "source": [
    "### 05) WAP to print even length word in string."
   ]
  },
  {
   "cell_type": "code",
   "execution_count": 29,
   "metadata": {},
   "outputs": [
    {
     "name": "stdout",
     "output_type": "stream",
     "text": [
      "Enter String:archi manav am\n",
      "am\n"
     ]
    }
   ],
   "source": [
    "x = input(\"Enter String:\")\n",
    "words = x.split()\n",
    "for i in words:\n",
    "    if len(i)%2==0:\n",
    "        print(i)"
   ]
  },
  {
   "cell_type": "markdown",
   "metadata": {},
   "source": [
    "### 06) WAP to count numbers of vowels in given string."
   ]
  },
  {
   "cell_type": "code",
   "execution_count": 35,
   "metadata": {},
   "outputs": [
    {
     "name": "stdout",
     "output_type": "stream",
     "text": [
      "Enter String:aeiou\n",
      "5\n"
     ]
    }
   ],
   "source": [
    "x = input(\"Enter String:\")\n",
    "count =0\n",
    "for i in x:\n",
    "    if (i=='a' or i =='e'or i == 'i' or i =='o'or i=='u' or i=='A' or i=='E' or i=='I' or i=='O' or i=='U'):\n",
    "        count+=1\n",
    "print(count)"
   ]
  },
  {
   "cell_type": "markdown",
   "metadata": {},
   "source": [
    "### 07) WAP to convert given array to string."
   ]
  },
  {
   "cell_type": "code",
   "execution_count": 6,
   "metadata": {},
   "outputs": [
    {
     "name": "stdout",
     "output_type": "stream",
     "text": [
      "[]\n"
     ]
    }
   ],
   "source": [
    "#a = [\"3\",\"4\",\"5\",\"6\",\"abc\",\"xyz\"]\n",
    "#print(\" \".join(a))\n",
    "\n",
    "mylist = []\n",
    "b = input(\"Enter Word to add with list\")\n",
    "for i in b:\n",
    "    mylist.append(i)\n",
    "print(mylist)"
   ]
  },
  {
   "cell_type": "markdown",
   "metadata": {},
   "source": [
    "### 01) WAP to find out duplicate characters in given string."
   ]
  },
  {
   "cell_type": "code",
   "execution_count": 2,
   "metadata": {},
   "outputs": [
    {
     "name": "stdout",
     "output_type": "stream",
     "text": [
      "Enter String:dravisha archi\n",
      "r\n",
      "a\n",
      "i\n",
      "h\n"
     ]
    }
   ],
   "source": [
    "x = input(\"Enter String:\")\n",
    "\n",
    "for i in range(0,len(x)):\n",
    "    count =1\n",
    "    for j in range(i+1,len(x)):\n",
    "        if(x[i]==x[j] and x[i] !=' '):\n",
    "            count+=1\n",
    "            x = x[:j]+'0'+x[j+1:]\n",
    "    if(count>1 and x[i]!='0'):\n",
    "        print(x[i])\n",
    "    "
   ]
  },
  {
   "cell_type": "markdown",
   "metadata": {},
   "source": [
    "# 02) WAP to capitalize the first and last character of each word in a string."
   ]
  },
  {
   "cell_type": "code",
   "execution_count": 5,
   "metadata": {},
   "outputs": [
    {
     "name": "stdout",
     "output_type": "stream",
     "text": [
      "ArchI\n"
     ]
    }
   ],
   "source": [
    "x = input(\"Enter String:\")\n",
    "\n",
    "x = x[0:1].upper() + x[1:len(x)-1] + x[len(x)-1:len(x)].upper()\n",
    "\n",
    "print(x)"
   ]
  },
  {
   "cell_type": "markdown",
   "metadata": {},
   "source": [
    "### 03) WAP to find Maximum frequency character in String."
   ]
  },
  {
   "cell_type": "code",
   "execution_count": 6,
   "metadata": {},
   "outputs": [
    {
     "name": "stdout",
     "output_type": "stream",
     "text": [
      "mississippis\n",
      "Most frequent character:  s\n"
     ]
    }
   ],
   "source": [
    "string= input(\"Enter String:\")\n",
    "print(string)\n",
    "\n",
    "char_freq={}\n",
    "\n",
    "for i in string:\n",
    "    if i in char_freq:\n",
    "        char_freq[i]=char_freq[i]+1\n",
    "    else:\n",
    "        char_freq[i] = 1\n",
    "result= max(char_freq, key = char_freq.get)\n",
    "\n",
    "print(\"Maximum frequent character: \",result)"
   ]
  },
  {
   "cell_type": "markdown",
   "metadata": {},
   "source": [
    "### 04) WAP to find Minimum frequency character in String."
   ]
  },
  {
   "cell_type": "code",
   "execution_count": 7,
   "metadata": {},
   "outputs": [
    {
     "name": "stdout",
     "output_type": "stream",
     "text": [
      "hgfjiufguij\n",
      "Least frequent character:  h\n"
     ]
    }
   ],
   "source": [
    "string= input(\"Enter String:\")\n",
    "print(string)\n",
    "char_freq={}\n",
    "for i in string:\n",
    "    if i in char_freq:\n",
    "        char_freq[i]=char_freq[i]+1\n",
    "    else:\n",
    "        char_freq[i] = 1\n",
    "result= min(char_freq, key = char_freq.get)\n",
    "print(\"Minimum frequent character: \",result)"
   ]
  },
  {
   "cell_type": "markdown",
   "metadata": {},
   "source": [
    "### 05) WAP to check if a given string is binary string or not"
   ]
  },
  {
   "cell_type": "code",
   "execution_count": null,
   "metadata": {},
   "outputs": [
    {
     "name": "stdout",
     "output_type": "stream",
     "text": [
      "True\n"
     ]
    }
   ],
   "source": [
    "string = input(\"Enter a string \")\n",
    "for i in string:\n",
    "    if i not in ['0','1']:\n",
    "        print(string,\"is not binary \")\n",
    "        break\n",
    "else:\n",
    "    print(string,\"is binary \")"
   ]
  },
  {
   "cell_type": "code",
   "execution_count": null,
   "metadata": {},
   "outputs": [],
   "source": []
  }
 ],
 "metadata": {
  "kernelspec": {
   "display_name": "Python 3 (ipykernel)",
   "language": "python",
   "name": "python3"
  },
  "language_info": {
   "codemirror_mode": {
    "name": "ipython",
    "version": 3
   },
   "file_extension": ".py",
   "mimetype": "text/x-python",
   "name": "python",
   "nbconvert_exporter": "python",
   "pygments_lexer": "ipython3",
   "version": "3.9.13"
  },
  "vscode": {
   "interpreter": {
    "hash": "f1cbc9b3396aca8082bbb3e25968da6f88777d453b1af3d76596006268d9685c"
   }
  }
 },
 "nbformat": 4,
 "nbformat_minor": 4
}
