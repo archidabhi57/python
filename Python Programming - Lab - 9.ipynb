{
 "cells": [
  {
   "cell_type": "markdown",
   "metadata": {},
   "source": [
    "<a href='https://www.darshan.ac.in/'> <img src='https://www.darshan.ac.in/Content/media/DU_Logo.svg' width=\"250\" height=\"300\"/></a>\n",
    "<pre>\n",
    "<center><b><h1>Python Programming - 2101CS405</b></center>\n",
    "<center><b><h1>Lab - 9</b></center>    \n",
    "<pre>"
   ]
  },
  {
   "cell_type": "markdown",
   "metadata": {},
   "source": [
    "# Exception Handling"
   ]
  },
  {
   "cell_type": "markdown",
   "metadata": {},
   "source": [
    "# A"
   ]
  },
  {
   "cell_type": "markdown",
   "metadata": {},
   "source": [
    "### 01) WAP to handle divide by zero exception."
   ]
  },
  {
   "cell_type": "code",
   "execution_count": 2,
   "metadata": {},
   "outputs": [
    {
     "name": "stdout",
     "output_type": "stream",
     "text": [
      "Enter Number=55\n",
      "divison by zero\n"
     ]
    }
   ],
   "source": [
    "try:\n",
    "    a = int(input(\"Enter Number=\"))\n",
    "    print(a/0)\n",
    "except ZeroDivisionError:\n",
    "    print(\"divison by zero\")"
   ]
  },
  {
   "cell_type": "code",
   "execution_count": 2,
   "metadata": {},
   "outputs": [
    {
     "name": "stdout",
     "output_type": "stream",
     "text": [
      "Enter Number:5\n",
      "Divison by zero\n"
     ]
    }
   ],
   "source": [
    "try:\n",
    "    a= int (input(\"Enter Number:\"))\n",
    "    print(a/0)\n",
    "except ZeroDivisionError:\n",
    "    print(\"Divison by zero\")"
   ]
  },
  {
   "cell_type": "markdown",
   "metadata": {},
   "source": [
    "### 02)  Write a Python program that inputs a number and generates an error message if it is not a number."
   ]
  },
  {
   "cell_type": "code",
   "execution_count": 4,
   "metadata": {},
   "outputs": [
    {
     "name": "stdout",
     "output_type": "stream",
     "text": [
      "Enter Number=5\n",
      "5\n"
     ]
    }
   ],
   "source": [
    "try:\n",
    "    a = int(input(\"Enter Number=\"))\n",
    "    print(a)\n",
    "except ValueError:\n",
    "    print(\"It is not a number\")"
   ]
  },
  {
   "cell_type": "markdown",
   "metadata": {},
   "source": [
    "### 03) WAP to handle file not found Exception"
   ]
  },
  {
   "cell_type": "code",
   "execution_count": 9,
   "metadata": {},
   "outputs": [
    {
     "name": "stdout",
     "output_type": "stream",
     "text": [
      "Cannot open\n"
     ]
    }
   ],
   "source": [
    "try:\n",
    "    f = open('abc.txt','r')\n",
    "except FileNotFoundError:\n",
    "    print(\"Cannot Found file\")\n",
    "else:\n",
    "    print(len(f.readlines()))\n",
    "    f.close()"
   ]
  },
  {
   "cell_type": "markdown",
   "metadata": {},
   "source": [
    "### 04) WAP to handle type Exception."
   ]
  },
  {
   "cell_type": "code",
   "execution_count": 16,
   "metadata": {},
   "outputs": [
    {
     "name": "stdout",
     "output_type": "stream",
     "text": [
      "Enter Number=5\n",
      "Enter Number=3\n",
      "can only concatenate str (not \"int\") to str\n"
     ]
    }
   ],
   "source": [
    "x = input(\"Enter Number=\")\n",
    "y = int(input(\"Enter Number=\"))\n",
    "try:\n",
    "    add=x+y\n",
    "except TypeError as a:\n",
    "    print(a)"
   ]
  },
  {
   "cell_type": "markdown",
   "metadata": {},
   "source": [
    "### 05) WAP to demonstrate valueError and indexError with example."
   ]
  },
  {
   "cell_type": "code",
   "execution_count": 21,
   "metadata": {},
   "outputs": [
    {
     "name": "stdout",
     "output_type": "stream",
     "text": [
      "Enter list element=5\n",
      "Enter Elemenet1:1\n",
      "Enter Elemenet2:2\n",
      "Enter Elemenet3:3\n",
      "Enter Elemenet4:6\n",
      "Enter Elemenet5:8\n",
      "8\n"
     ]
    }
   ],
   "source": [
    "n = int(input(\"Enter list element=\"))\n",
    "li=[]\n",
    "try:\n",
    "    for i in range(n+1):\n",
    "        a=int(input(\"Enter Elemenet{}:\".format(i+1)))\n",
    "        li.append(a)\n",
    "    print(li[n])\n",
    "except ValueError as e:\n",
    "    print(\"ValueError = {}\".format(e))\n",
    "except IndexError as e:\n",
    "    print(\"IndexError = {}\".format(e))"
   ]
  },
  {
   "cell_type": "markdown",
   "metadata": {},
   "source": [
    "### 06) WAP to domonstrate else  and finally block."
   ]
  },
  {
   "cell_type": "code",
   "execution_count": 25,
   "metadata": {},
   "outputs": [
    {
     "name": "stdout",
     "output_type": "stream",
     "text": [
      "Enter Number=5\n",
      "division by zero\n",
      "Always Executed\n"
     ]
    }
   ],
   "source": [
    "a = int(input(\"Enter Number=\"))\n",
    "try:\n",
    "    x = a/0\n",
    "except ZeroDivisionError as e:\n",
    "    print(e)\n",
    "else:\n",
    "    print(x)\n",
    "finally:\n",
    "    print(\"Always Executed\")"
   ]
  },
  {
   "cell_type": "markdown",
   "metadata": {},
   "source": [
    "### 07) Create a short program that prompts the user for a list of grades separated by commas. Split the string into individual grades and use a list comprehension to convert each string to an integer. You should use a try statement to inform the user when the values they entered cannot be converted."
   ]
  },
  {
   "cell_type": "code",
   "execution_count": 34,
   "metadata": {},
   "outputs": [
    {
     "name": "stdout",
     "output_type": "stream",
     "text": [
      "Enter Number=5,2,2,5,3\n",
      "[5, 2, 2, 5, 3]\n"
     ]
    }
   ],
   "source": [
    "try:\n",
    "    n = input(\"Enter Number=\")\n",
    "    a=n.split(\",\")\n",
    "    x = [int(m) for m in a]\n",
    "    print(x)\n",
    "except ValueError as e:\n",
    "    print(\"ValueError = {}\".format(e))"
   ]
  },
  {
   "cell_type": "code",
   "execution_count": 35,
   "metadata": {},
   "outputs": [
    {
     "name": "stdout",
     "output_type": "stream",
     "text": [
      "Enter Number=222 2\n",
      "ValueError = invalid literal for int() with base 10: '222 2'\n"
     ]
    }
   ],
   "source": [
    "try:\n",
    "    n = input(\"Enter Number=\")\n",
    "    a=n.split(\",\")\n",
    "    x = [int(m) for m in a]\n",
    "    print(x)\n",
    "except ValueError as e:\n",
    "    print(\"ValueError = {}\".format(e))"
   ]
  },
  {
   "cell_type": "markdown",
   "metadata": {},
   "source": []
  },
  {
   "cell_type": "markdown",
   "metadata": {},
   "source": [
    "# B"
   ]
  },
  {
   "cell_type": "markdown",
   "metadata": {},
   "source": [
    "### 01) WAP to Raising User Generated Exception."
   ]
  },
  {
   "cell_type": "code",
   "execution_count": 4,
   "metadata": {},
   "outputs": [
    {
     "name": "stdout",
     "output_type": "stream",
     "text": [
      "Enter number1=5\n",
      "Enter number2=8\n",
      "0.625\n"
     ]
    }
   ],
   "source": [
    "try:\n",
    "    n1 = int(input(\"Enter number1=\"))\n",
    "    n2 = int(input(\"Enter number2=\"))\n",
    "    if n1>=0 and n2>=0:\n",
    "        print(n1/n2)\n",
    "    else:\n",
    "        raise ValueError(\"Negative number\")\n",
    "except ValueError as e:\n",
    "    print(e)"
   ]
  },
  {
   "cell_type": "code",
   "execution_count": 5,
   "metadata": {},
   "outputs": [
    {
     "name": "stdout",
     "output_type": "stream",
     "text": [
      "EnterNumber=-8\n",
      "EnterNumber=9\n",
      "-ve\n"
     ]
    }
   ],
   "source": [
    "try:\n",
    "    n1 = int(input(\"EnterNumber=\"))\n",
    "    n2 = int(input(\"EnterNumber=\"))\n",
    "    if n1>=0 and n2>=0:\n",
    "        print(n1/n2)\n",
    "    else:\n",
    "        raise ValueError(\"-ve\")\n",
    "except ValueError as e:\n",
    "    print(e)"
   ]
  },
  {
   "cell_type": "markdown",
   "metadata": {},
   "source": [
    "### 02) WAP to raise your custom Exception."
   ]
  },
  {
   "cell_type": "code",
   "execution_count": 7,
   "metadata": {},
   "outputs": [
    {
     "name": "stdout",
     "output_type": "stream",
     "text": [
      "Enter number1=-8\n",
      "Enter number2=3\n",
      "This is my custom exception\n"
     ]
    }
   ],
   "source": [
    "class CustomException(Exception):\n",
    "    pass\n",
    "\n",
    "\n",
    "try:\n",
    "    n1 = int(input(\"Enter number1=\"))\n",
    "    n2 = int(input(\"Enter number2=\"))\n",
    "    if n1>=0 and n2>=0:\n",
    "        print(n1/n2)\n",
    "    else:\n",
    "        raise CustomException('This is my custom exception')\n",
    "except CustomException as ex:\n",
    "    print(ex)"
   ]
  },
  {
   "cell_type": "code",
   "execution_count": 8,
   "metadata": {},
   "outputs": [
    {
     "name": "stdout",
     "output_type": "stream",
     "text": [
      "EnterNumber=-8\n",
      "EnterNumber=-3\n",
      "-ve\n"
     ]
    }
   ],
   "source": [
    "class CustomException(Exception):\n",
    "    pass\n",
    "try:\n",
    "    n1 = int(input(\"EnterNumber=\"))\n",
    "    n2 = int(input(\"EnterNumber=\"))\n",
    "    if n1>=0 and n2>=0:\n",
    "        print(n1/n2)\n",
    "    else:\n",
    "        raise CustomException(\"this is my exception\")\n",
    "except CustomException as ex:\n",
    "    print(ex)"
   ]
  },
  {
   "cell_type": "code",
   "execution_count": null,
   "metadata": {},
   "outputs": [],
   "source": []
  }
 ],
 "metadata": {
  "kernelspec": {
   "display_name": "Python 3 (ipykernel)",
   "language": "python",
   "name": "python3"
  },
  "language_info": {
   "codemirror_mode": {
    "name": "ipython",
    "version": 3
   },
   "file_extension": ".py",
   "mimetype": "text/x-python",
   "name": "python",
   "nbconvert_exporter": "python",
   "pygments_lexer": "ipython3",
   "version": "3.9.13"
  }
 },
 "nbformat": 4,
 "nbformat_minor": 4
}
