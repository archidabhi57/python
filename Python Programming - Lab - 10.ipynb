{
 "cells": [
  {
   "cell_type": "markdown",
   "metadata": {},
   "source": [
    "<a href='https://www.darshan.ac.in/'> <img src='https://www.darshan.ac.in/Content/media/DU_Logo.svg' width=\"250\" height=\"300\"/></a>\n",
    "<pre>\n",
    "<center><b><h1>Python Programming - 2101CS405</b></center>\n",
    "<center><b><h1>Lab - 10</b></center>    \n",
    "<pre>"
   ]
  },
  {
   "cell_type": "markdown",
   "metadata": {},
   "source": [
    "# Modules"
   ]
  },
  {
   "cell_type": "markdown",
   "metadata": {},
   "source": [
    "# A"
   ]
  },
  {
   "cell_type": "markdown",
   "metadata": {},
   "source": [
    "### 01) WAP to create Calculator module which defines functions like add, sub,mul and div. create another file that uses the Calculator module."
   ]
  },
  {
   "cell_type": "code",
   "execution_count": 6,
   "metadata": {},
   "outputs": [
    {
     "name": "stdout",
     "output_type": "stream",
     "text": [
      "12\n",
      "8\n",
      "20\n",
      "5.0\n"
     ]
    }
   ],
   "source": [
    "import Calcu\n",
    "print(Calcu.add(10,2))\n",
    "print(Calcu.sub(10,2))\n",
    "print(Calcu.multi(10,2))\n",
    "print(Calcu.div(10,2))"
   ]
  },
  {
   "cell_type": "markdown",
   "metadata": {},
   "source": [
    "### 02) WAP to Pick a random character from a given String."
   ]
  },
  {
   "cell_type": "code",
   "execution_count": 7,
   "metadata": {},
   "outputs": [
    {
     "name": "stdout",
     "output_type": "stream",
     "text": [
      "r\n"
     ]
    }
   ],
   "source": [
    "import random\n",
    "Stri = 'Archi,Rhydham,Nidhi'\n",
    "print(random.choice(Stri))"
   ]
  },
  {
   "cell_type": "markdown",
   "metadata": {},
   "source": [
    "### 03) WAP to Pick a random element from a given list."
   ]
  },
  {
   "cell_type": "code",
   "execution_count": 11,
   "metadata": {},
   "outputs": [
    {
     "name": "stdout",
     "output_type": "stream",
     "text": [
      "Rhydam\n"
     ]
    }
   ],
   "source": [
    "import random\n",
    "li = ['Archi','Rhydham','Nidhi']\n",
    "print(random.choice(li))"
   ]
  },
  {
   "cell_type": "markdown",
   "metadata": {},
   "source": [
    "### 04) WAP to demonstrate the use of the math module."
   ]
  },
  {
   "cell_type": "code",
   "execution_count": 14,
   "metadata": {},
   "outputs": [
    {
     "name": "stdout",
     "output_type": "stream",
     "text": [
      "8.0\n",
      "2\n",
      "1\n",
      "3.141592653589793\n",
      "2.718281828459045\n"
     ]
    }
   ],
   "source": [
    "import math\n",
    "\n",
    "a = math.sqrt(64)\n",
    "print(a)\n",
    "##############\n",
    "x = math.ceil(1.4)\n",
    "y = math.floor(1.4)\n",
    "\n",
    "print(x) \n",
    "print(y) \n",
    "\n",
    "b = math.pi\n",
    "\n",
    "print(b)\n",
    "\n",
    "c = math.e\n",
    "\n",
    "print(c)"
   ]
  },
  {
   "cell_type": "markdown",
   "metadata": {},
   "source": [
    "### 05) WAP to demonstrate the use of date time module."
   ]
  },
  {
   "cell_type": "code",
   "execution_count": 26,
   "metadata": {},
   "outputs": [
    {
     "name": "stdout",
     "output_type": "stream",
     "text": [
      "Current year: 2023\n",
      "Current month: 2\n",
      "Current day: 8\n",
      "Datetime from timestamp: 2029-10-25 21:47:48\n"
     ]
    }
   ],
   "source": [
    "\n",
    "from datetime import date\n",
    "today = date.today()\n",
    " \n",
    "print(\"Current year:\", today.year)\n",
    "print(\"Current month:\", today.month)\n",
    "print(\"Current day:\", today.day)\n",
    "\n",
    "\n",
    "from datetime import datetime\n",
    "date_time = datetime.fromtimestamp(1887639468)\n",
    "print(\"Datetime from timestamp:\", date_time)"
   ]
  },
  {
   "cell_type": "markdown",
   "metadata": {},
   "source": [
    "# B"
   ]
  },
  {
   "cell_type": "markdown",
   "metadata": {},
   "source": [
    "### 01) WAP to Roll dice in such a way that every time you get the same number."
   ]
  },
  {
   "cell_type": "code",
   "execution_count": 35,
   "metadata": {},
   "outputs": [
    {
     "name": "stdout",
     "output_type": "stream",
     "text": [
      "5\n",
      "3\n"
     ]
    }
   ],
   "source": [
    "import random\n",
    "\n",
    "a=random.seed(5)\n",
    "print(random.randint(1,6))\n",
    "print(random.randint(1,6))\n"
   ]
  },
  {
   "cell_type": "markdown",
   "metadata": {},
   "source": [
    "### 02) WAP to generate 3 random integers between 100 and 999 which is divisible by 5."
   ]
  },
  {
   "cell_type": "code",
   "execution_count": 15,
   "metadata": {},
   "outputs": [
    {
     "name": "stdout",
     "output_type": "stream",
     "text": [
      "715, 480, 320, "
     ]
    }
   ],
   "source": [
    "import random\n",
    "for num in range(3):\n",
    "    print(random.randrange(100, 999, 5), end=', ')"
   ]
  },
  {
   "cell_type": "markdown",
   "metadata": {},
   "source": [
    "### 03) WAP to generate 100 random lottery tickets and pick two lucky tickets from it as a winner."
   ]
  },
  {
   "cell_type": "code",
   "execution_count": 29,
   "metadata": {},
   "outputs": [
    {
     "name": "stdout",
     "output_type": "stream",
     "text": [
      "[1364, 6130, 3955, 2588, 4408, 4874, 1455, 6807, 8784, 8253, 2349, 9504, 5058, 3288, 5351, 3890, 8161, 8424, 7933, 3807, 3534, 5270, 6243, 8022, 4889, 7866, 7267, 7580, 5341, 6781, 5728, 9571, 3036, 5478, 7208, 4476, 1928, 4417, 4928, 7247, 9163, 4716, 4491, 9835, 1161, 7309, 6206, 1260, 5068, 6960, 9389, 1751, 8282, 1996, 1021, 1545, 8067, 1619, 6039, 9040, 5214, 4350, 7907, 3140, 9686, 4447, 6125, 3402, 9789, 4200, 9050, 1358, 6380, 8160, 3533, 6041, 3399, 4527, 6552, 1419, 4281, 6860, 3409, 1499, 6970, 2500, 2784, 3100, 1548, 1352, 6157, 3267, 9536, 4579, 6272, 5855, 1107, 3257, 6153, 6690]\n",
      "Lucky 2 lottery tickets are [1455, 8282]\n"
     ]
    }
   ],
   "source": [
    "import random\n",
    "\n",
    "lottery_tickets = []\n",
    "\n",
    "for i in range(100):\n",
    "    a = random.randrange(1000, 9999)\n",
    "    while a in lottery_tickets:\n",
    "        a = random.randrange(1000 , 9999)\n",
    "    lottery_tickets.append(a)     \n",
    "\n",
    "print(lottery_tickets)\n",
    "winners = random.sample(lottery_tickets, 2)\n",
    "print(\"Lucky 2 lottery tickets are\", winners)"
   ]
  },
  {
   "cell_type": "markdown",
   "metadata": {},
   "source": [
    "### 04) WAP to print current date and time in Python."
   ]
  },
  {
   "cell_type": "code",
   "execution_count": 24,
   "metadata": {},
   "outputs": [
    {
     "name": "stdout",
     "output_type": "stream",
     "text": [
      "2023-02-08 11:07:48.878516\n"
     ]
    }
   ],
   "source": [
    "import datetime\n",
    "x = datetime.datetime.now()\n",
    "print(x)"
   ]
  },
  {
   "cell_type": "markdown",
   "metadata": {},
   "source": [
    "### 05) Subtract a week (7 days) from a given date in Python."
   ]
  },
  {
   "cell_type": "code",
   "execution_count": 5,
   "metadata": {},
   "outputs": [
    {
     "name": "stdout",
     "output_type": "stream",
     "text": [
      "subtract 7 days from given date: 2003-10-31\n"
     ]
    }
   ],
   "source": [
    "from datetime import timedelta\n",
    "\n",
    "givendate = datetime.date(2003,11,7) - timedelta(7)\n",
    "\n",
    "print('subtract 7 days from given date:',givendate)"
   ]
  },
  {
   "cell_type": "code",
   "execution_count": 6,
   "metadata": {},
   "outputs": [
    {
     "name": "stdout",
     "output_type": "stream",
     "text": [
      "subtract 7 days from given date: 2023-03-02\n"
     ]
    }
   ],
   "source": [
    "from datetime import timedelta,date\n",
    "\n",
    "givendate = date.today() - timedelta(7)\n",
    "\n",
    "print('subtract 7 days from given date:',givendate)"
   ]
  },
  {
   "cell_type": "markdown",
   "metadata": {},
   "source": [
    "### 06) WAP to Calculate number of days between two given dates."
   ]
  },
  {
   "cell_type": "code",
   "execution_count": 7,
   "metadata": {},
   "outputs": [
    {
     "name": "stdout",
     "output_type": "stream",
     "text": [
      "days between date1 and date2: 365 Days\n"
     ]
    }
   ],
   "source": [
    "from datetime import date\n",
    "\n",
    "def numberOfDays(date1,date2):\n",
    "    return (date2-date1).days\n",
    "\n",
    "date1 = date(2022,11,7)\n",
    "date2 = date(2023,11,7)\n",
    "print(\"days between date1 and date2:\",numberOfDays(date1,date2),\"Days\")"
   ]
  },
  {
   "cell_type": "code",
   "execution_count": 8,
   "metadata": {},
   "outputs": [
    {
     "name": "stdout",
     "output_type": "stream",
     "text": [
      "days between date1 and date2: 265 Days\n"
     ]
    }
   ],
   "source": [
    "from datetime import date\n",
    "\n",
    "def numberOfDays(date1,date2):\n",
    "    return (date2-date1).days\n",
    "\n",
    "date1 = date.today()\n",
    "date2 = date(2023,11,7)\n",
    "print(\"days between date1 and date2:\",numberOfDays(date1,date2),\"Days\")"
   ]
  },
  {
   "cell_type": "markdown",
   "metadata": {},
   "source": [
    "### 07) WAP to Find the day of the week of a given date."
   ]
  },
  {
   "cell_type": "code",
   "execution_count": 28,
   "metadata": {},
   "outputs": [
    {
     "name": "stdout",
     "output_type": "stream",
     "text": [
      "Tuesday\n"
     ]
    }
   ],
   "source": [
    "import datetime\n",
    "import calendar\n",
    "\n",
    "def findday(date):\n",
    "    a = datetime.datetime.strptime(date,'%d-%m-%Y').weekday()\n",
    "    return(calendar.day_name[a])\n",
    "\n",
    "date = '7-11-2023'\n",
    "print(findday(date))"
   ]
  },
  {
   "cell_type": "code",
   "execution_count": 11,
   "metadata": {},
   "outputs": [
    {
     "name": "stdout",
     "output_type": "stream",
     "text": [
      "today: 3\n",
      "given date: 4\n"
     ]
    }
   ],
   "source": [
    "import datetime\n",
    "\n",
    "date1 = date.today()\n",
    "date2 = datetime.date(2023,2,16)\n",
    "x=date1.isoweekday()\n",
    "y=date2.isoweekday()\n",
    "print(\"today:\",x)\n",
    "print(\"given date:\",y)"
   ]
  }
 ],
 "metadata": {
  "kernelspec": {
   "display_name": "Python 3 (ipykernel)",
   "language": "python",
   "name": "python3"
  },
  "language_info": {
   "codemirror_mode": {
    "name": "ipython",
    "version": 3
   },
   "file_extension": ".py",
   "mimetype": "text/x-python",
   "name": "python",
   "nbconvert_exporter": "python",
   "pygments_lexer": "ipython3",
   "version": "3.9.13"
  }
 },
 "nbformat": 4,
 "nbformat_minor": 4
}
