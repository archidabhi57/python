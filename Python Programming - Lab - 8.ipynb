{
 "cells": [
  {
   "cell_type": "markdown",
   "metadata": {},
   "source": [
    "<a href='https://www.darshan.ac.in/'> <img src='https://www.darshan.ac.in/Content/media/DU_Logo.svg' width=\"250\" height=\"300\"/></a>\n",
    "<pre>\n",
    "<center><b><h1>Python Programming - 2101CS405</b></center>\n",
    "<center><b><h1>Lab - 8</b></center>    \n",
    "<pre>"
   ]
  },
  {
   "cell_type": "markdown",
   "metadata": {},
   "source": [
    "# File handling"
   ]
  },
  {
   "cell_type": "markdown",
   "metadata": {},
   "source": [
    "# A"
   ]
  },
  {
   "cell_type": "markdown",
   "metadata": {},
   "source": [
    "### 01) WAP to read entire file named abc.txt"
   ]
  },
  {
   "cell_type": "code",
   "execution_count": 13,
   "metadata": {},
   "outputs": [
    {
     "name": "stdout",
     "output_type": "stream",
     "text": [
      "archi \n",
      "\n",
      "manav\n",
      "\n",
      "rhydham\n",
      "\n",
      "nidhi\n",
      "\n",
      "dipesh\n"
     ]
    }
   ],
   "source": [
    "text_file = open(\"abc.txt\",\"r\")\n",
    "list_line = text_file.readlines()\n",
    "for i in list_line:\n",
    "    print(i)\n",
    "  \n",
    "    \n",
    "text_file.close()\n",
    "\n"
   ]
  },
  {
   "cell_type": "code",
   "execution_count": 3,
   "metadata": {},
   "outputs": [
    {
     "name": "stdout",
     "output_type": "stream",
     "text": [
      "archi\n",
      "\n",
      "manav\n",
      "\n",
      "rhydham\n",
      "\n",
      "nidhi\n",
      "\n",
      "dipesh\n"
     ]
    }
   ],
   "source": [
    "file=open('abc.txt','r')\n",
    "data = file.readlines()\n",
    "for i in data:\n",
    "    print(i)\n",
    "file.close()"
   ]
  },
  {
   "cell_type": "markdown",
   "metadata": {},
   "source": [
    "### 02) WAP to print program it self on console."
   ]
  },
  {
   "cell_type": "code",
   "execution_count": 2,
   "metadata": {},
   "outputs": [
    {
     "name": "stdout",
     "output_type": "stream",
     "text": [
      "{\n",
      " \"cells\": [\n",
      "  {\n",
      "   \"cell_type\": \"markdown\",\n",
      "   \"metadata\": {},\n",
      "   \"source\": [\n",
      "    \"<a href='https://www.darshan.ac.in/'> <img src='https://www.darshan.ac.in/Content/media/DU_Logo.svg' width=\\\"250\\\" height=\\\"300\\\"/></a>\\n\",\n",
      "    \"<pre>\\n\",\n",
      "    \"<center><b><h1>Python Programming - 2101CS405</b></center>\\n\",\n",
      "    \"<center><b><h1>Lab - 8</b></center>    \\n\",\n",
      "    \"<pre>\"\n",
      "   ]\n",
      "  },\n",
      "  {\n",
      "   \"cell_type\": \"markdown\",\n",
      "   \"metadata\": {},\n",
      "   \"source\": [\n",
      "    \"# File handling\"\n",
      "   ]\n",
      "  },\n",
      "  {\n",
      "   \"cell_type\": \"markdown\",\n",
      "   \"metadata\": {},\n",
      "   \"source\": [\n",
      "    \"# A\"\n",
      "   ]\n",
      "  },\n",
      "  {\n",
      "   \"cell_type\": \"markdown\",\n",
      "   \"metadata\": {},\n",
      "   \"source\": [\n",
      "    \"### 01) WAP to read entire file named abc.txt\"\n",
      "   ]\n",
      "  },\n",
      "  {\n",
      "   \"cell_type\": \"code\",\n",
      "   \"execution_count\": 4,\n",
      "   \"metadata\": {},\n",
      "   \"outputs\": [],\n",
      "   \"source\": [\n",
      "    \"file1 = open('abc.txt', 'r')\\n\",\n",
      "    \"Lines = file1.readlines()\\n\",\n",
      "    \"\\n\"\n",
      "   ]\n",
      "  },\n",
      "  {\n",
      "   \"cell_type\": \"markdown\",\n",
      "   \"metadata\": {},\n",
      "   \"source\": [\n",
      "    \"### 02) WAP to print program it self on console.\"\n",
      "   ]\n",
      "  },\n",
      "  {\n",
      "   \"cell_type\": \"code\",\n",
      "   \"execution_count\": null,\n",
      "   \"metadata\": {},\n",
      "   \"outputs\": [],\n",
      "   \"source\": [\n",
      "    \"text_file open(\\\"Python Programming - Lab - 8.ipynb\\\",\\\"r\\\")\\n\",\n",
      "    \"print(text_file.re)\"\n",
      "   ]\n",
      "  },\n",
      "  {\n",
      "   \"cell_type\": \"markdown\",\n",
      "   \"metadata\": {},\n",
      "   \"source\": [\n",
      "    \"### 03) WAP to read first 5 lines from the file named abc.txt\"\n",
      "   ]\n",
      "  },\n",
      "  {\n",
      "   \"cell_type\": \"code\",\n",
      "   \"execution_count\": null,\n",
      "   \"metadata\": {},\n",
      "   \"outputs\": [],\n",
      "   \"source\": []\n",
      "  },\n",
      "  {\n",
      "   \"cell_type\": \"markdown\",\n",
      "   \"metadata\": {},\n",
      "   \"source\": [\n",
      "    \"### 04) WAP to find the longest word in a file named abc.txt\"\n",
      "   ]\n",
      "  },\n",
      "  {\n",
      "   \"cell_type\": \"code\",\n",
      "   \"execution_count\": null,\n",
      "   \"metadata\": {},\n",
      "   \"outputs\": [],\n",
      "   \"source\": []\n",
      "  },\n",
      "  {\n",
      "   \"cell_type\": \"markdown\",\n",
      "   \"metadata\": {},\n",
      "   \"source\": [\n",
      "    \"### 05) WAP to find the size of the file named abc.txt\"\n",
      "   ]\n",
      "  },\n",
      "  {\n",
      "   \"cell_type\": \"code\",\n",
      "   \"execution_count\": null,\n",
      "   \"metadata\": {},\n",
      "   \"outputs\": [],\n",
      "   \"source\": []\n",
      "  },\n",
      "  {\n",
      "   \"cell_type\": \"markdown\",\n",
      "   \"metadata\": {},\n",
      "   \"source\": [\n",
      "    \"### 06) WAP to implement search function to search specific occurance of word in a given text file.\"\n",
      "   ]\n",
      "  },\n",
      "  {\n",
      "   \"cell_type\": \"code\",\n",
      "   \"execution_count\": null,\n",
      "   \"metadata\": {},\n",
      "   \"outputs\": [],\n",
      "   \"source\": []\n",
      "  },\n",
      "  {\n",
      "   \"cell_type\": \"markdown\",\n",
      "   \"metadata\": {},\n",
      "   \"source\": [\n",
      "    \"# B\"\n",
      "   ]\n",
      "  },\n",
      "  {\n",
      "   \"cell_type\": \"markdown\",\n",
      "   \"metadata\": {},\n",
      "   \"source\": [\n",
      "    \"### 01) WAP to write first 100 prime numbers to a file named primenumbers.txt \\n\",\n",
      "    \"(Note: each number should be in new line)\"\n",
      "   ]\n",
      "  },\n",
      "  {\n",
      "   \"cell_type\": \"code\",\n",
      "   \"execution_count\": null,\n",
      "   \"metadata\": {},\n",
      "   \"outputs\": [],\n",
      "   \"source\": []\n",
      "  },\n",
      "  {\n",
      "   \"cell_type\": \"markdown\",\n",
      "   \"metadata\": {},\n",
      "   \"source\": [\n",
      "    \"### 02) WAP to merge two files and write it in a new file.\"\n",
      "   ]\n",
      "  },\n",
      "  {\n",
      "   \"cell_type\": \"code\",\n",
      "   \"execution_count\": null,\n",
      "   \"metadata\": {},\n",
      "   \"outputs\": [],\n",
      "   \"source\": []\n",
      "  },\n",
      "  {\n",
      "   \"cell_type\": \"markdown\",\n",
      "   \"metadata\": {},\n",
      "   \"source\": [\n",
      "    \"### 03) WAP to encrypt a text file.\"\n",
      "   ]\n",
      "  },\n",
      "  {\n",
      "   \"cell_type\": \"code\",\n",
      "   \"execution_count\": null,\n",
      "   \"metadata\": {},\n",
      "   \"outputs\": [],\n",
      "   \"source\": []\n",
      "  },\n",
      "  {\n",
      "   \"cell_type\": \"markdown\",\n",
      "   \"metadata\": {},\n",
      "   \"source\": [\n",
      "    \"### 04) WAP to decrypt a previously encrypted file.\"\n",
      "   ]\n",
      "  },\n",
      "  {\n",
      "   \"cell_type\": \"code\",\n",
      "   \"execution_count\": null,\n",
      "   \"metadata\": {},\n",
      "   \"outputs\": [],\n",
      "   \"source\": []\n",
      "  },\n",
      "  {\n",
      "   \"cell_type\": \"markdown\",\n",
      "   \"metadata\": {},\n",
      "   \"source\": [\n",
      "    \"### 05) WAP to remove a word from text file.\"\n",
      "   ]\n",
      "  },\n",
      "  {\n",
      "   \"cell_type\": \"code\",\n",
      "   \"execution_count\": null,\n",
      "   \"metadata\": {},\n",
      "   \"outputs\": [],\n",
      "   \"source\": []\n",
      "  }\n",
      " ],\n",
      " \"metadata\": {\n",
      "  \"kernelspec\": {\n",
      "   \"display_name\": \"Python 3 (ipykernel)\",\n",
      "   \"language\": \"python\",\n",
      "   \"name\": \"python3\"\n",
      "  },\n",
      "  \"language_info\": {\n",
      "   \"codemirror_mode\": {\n",
      "    \"name\": \"ipython\",\n",
      "    \"version\": 3\n",
      "   },\n",
      "   \"file_extension\": \".py\",\n",
      "   \"mimetype\": \"text/x-python\",\n",
      "   \"name\": \"python\",\n",
      "   \"nbconvert_exporter\": \"python\",\n",
      "   \"pygments_lexer\": \"ipython3\",\n",
      "   \"version\": \"3.9.13\"\n",
      "  },\n",
      "  \"vscode\": {\n",
      "   \"interpreter\": {\n",
      "    \"hash\": \"f1cbc9b3396aca8082bbb3e25968da6f88777d453b1af3d76596006268d9685c\"\n",
      "   }\n",
      "  }\n",
      " },\n",
      " \"nbformat\": 4,\n",
      " \"nbformat_minor\": 4\n",
      "}\n",
      "\n"
     ]
    }
   ],
   "source": [
    "text_file = open(\"Python Programming - Lab - 8.ipynb\",\"r\")\n",
    "print(text_file.read())"
   ]
  },
  {
   "cell_type": "markdown",
   "metadata": {},
   "source": [
    "### 03) WAP to read first 5 lines from the file named abc.txt"
   ]
  },
  {
   "cell_type": "code",
   "execution_count": 17,
   "metadata": {},
   "outputs": [
    {
     "name": "stdout",
     "output_type": "stream",
     "text": [
      "archi \n",
      "\n",
      "manav\n",
      "\n",
      "rhydham\n",
      "\n",
      "nidhi\n",
      "\n",
      "dipesh\n"
     ]
    }
   ],
   "source": [
    "text_file = open(\"abc.txt\",\"r\")\n",
    "list_line = text_file.readlines()\n",
    "for i in list_line[:5]:\n",
    "    print(i)\n",
    "  \n",
    "    \n",
    "text_file.close()"
   ]
  },
  {
   "cell_type": "code",
   "execution_count": 5,
   "metadata": {},
   "outputs": [
    {
     "name": "stdout",
     "output_type": "stream",
     "text": [
      "archi\n",
      "\n",
      "manav\n",
      "\n",
      "rhydham\n",
      "\n",
      "nidhi\n",
      "\n",
      "dipesh\n",
      "\n"
     ]
    }
   ],
   "source": [
    "file = open('abc.txt','r')\n",
    "data = file.readlines()\n",
    "for i in data[:5]:\n",
    "    print(i)\n",
    "    \n",
    "file.close()"
   ]
  },
  {
   "cell_type": "markdown",
   "metadata": {},
   "source": [
    "### 04) WAP to find the longest word in a file named abc.txt"
   ]
  },
  {
   "cell_type": "code",
   "execution_count": 6,
   "metadata": {},
   "outputs": [
    {
     "name": "stdout",
     "output_type": "stream",
     "text": [
      "longest word:~ rhydham\n",
      "\n"
     ]
    }
   ],
   "source": [
    "max=\" \"\n",
    "text_file=open('abc.txt')\n",
    "line_list=text_file.readlines();\n",
    "for line in line_list:\n",
    "    words=line.split(\" \")\n",
    "    for word in words:\n",
    "        if len(word)>len(max):\n",
    "            max=word\n",
    "print(f\"longest word:~ {max}\")\n",
    "text_file.close() "
   ]
  },
  {
   "cell_type": "code",
   "execution_count": 7,
   "metadata": {},
   "outputs": [
    {
     "name": "stdout",
     "output_type": "stream",
     "text": [
      "longest word= rhydham\n",
      "\n"
     ]
    }
   ],
   "source": [
    "max=\"\"\n",
    "file = open('abc.txt','r')\n",
    "data = file.readlines()\n",
    "for i in data:\n",
    "    words=i.split(\" \")\n",
    "    for j in words:\n",
    "        if len(j)>len(max):\n",
    "            max=j\n",
    "print('longest word=',max)\n",
    "file.close()"
   ]
  },
  {
   "cell_type": "markdown",
   "metadata": {},
   "source": [
    "### 05) WAP to find the size of the file named abc.txt"
   ]
  },
  {
   "cell_type": "code",
   "execution_count": 8,
   "metadata": {},
   "outputs": [
    {
     "name": "stdout",
     "output_type": "stream",
     "text": [
      "58\n"
     ]
    }
   ],
   "source": [
    "text_file = open(\"abc.txt\",\"r\")\n",
    "a=text_file.tell()\n",
    "text_file.seek(0,2)\n",
    "size=text_file.tell()\n",
    "print(size)\n",
    "text_file.seek(a,0)\n",
    "text_file.close()\n"
   ]
  },
  {
   "cell_type": "markdown",
   "metadata": {},
   "source": [
    "### 06) WAP to implement search function to search specific occurance of word in a given text file."
   ]
  },
  {
   "cell_type": "code",
   "execution_count": null,
   "metadata": {},
   "outputs": [],
   "source": [
    "def search(file_path,word):\n",
    "    text_file=open(file_path,'r')\n",
    "    content=text_file.read()\n",
    "    if word in content:\n",
    "        print('STRING EXIST IN A FILE')\n",
    "    else:\n",
    "        print('STRING DOES NOT EXIST IN A FILE')\n",
    "search('abc.txt','Imagination')\n",
    "search('abc.txt','ABC')"
   ]
  },
  {
   "cell_type": "markdown",
   "metadata": {},
   "source": [
    "# B"
   ]
  },
  {
   "cell_type": "markdown",
   "metadata": {},
   "source": [
    "### 01) WAP to write first 100 prime numbers to a file named primenumbers.txt \n",
    "(Note: each number should be in new line)"
   ]
  },
  {
   "cell_type": "code",
   "execution_count": 23,
   "metadata": {},
   "outputs": [],
   "source": [
    "text_file = open(\"primeNumber.txt\",\"w\")\n",
    "for n in range(2,100):\n",
    "    if all(n%i!=0 for i in range(2,n)):\n",
    "        text_file.write(str(n))\n",
    "        text_file.write('\\n')\n",
    "text_file.close()"
   ]
  },
  {
   "cell_type": "code",
   "execution_count": 9,
   "metadata": {},
   "outputs": [],
   "source": [
    "file=open('primenumber.txt','w')\n",
    "for n in range(2,100):\n",
    "    if all(n%1!=0 for i in range(2,n)):\n",
    "        file.write(str(n))\n",
    "        file.write('\\n')\n",
    "file.close()"
   ]
  },
  {
   "cell_type": "markdown",
   "metadata": {},
   "source": [
    "### 02) WAP to merge two files and write it in a new file."
   ]
  },
  {
   "cell_type": "code",
   "execution_count": 29,
   "metadata": {},
   "outputs": [],
   "source": [
    "text_file = open(\"abc.txt\",\"r\")\n",
    "a = text_file.read()\n",
    "text_file.close()\n",
    "\n",
    "text_file3 = open(\"pqr.txt\",\"w\")\n",
    "text_file3.write(a)\n",
    "text_file3.close()\n",
    "\n",
    "text_file2 = open(\"xyz.txt\",\"r\")\n",
    "b = text_file2.read()\n",
    "text_file2.close()\n",
    "\n",
    "text_file3 = open(\"pqr.txt\",\"a\")\n",
    "text_file3.write('\\n')\n",
    "text_file3.write(b)\n",
    "text_file3.close()\n"
   ]
  },
  {
   "cell_type": "code",
   "execution_count": 12,
   "metadata": {},
   "outputs": [],
   "source": [
    "file1 = open('abc.txt','r')\n",
    "data1=file1.read()\n",
    "file1.close()\n",
    "\n",
    "file3 = open('wxy.txt','w')\n",
    "file3.write(data1)\n",
    "file3.close()\n",
    "\n",
    "file2 = open('cde.txt','r')\n",
    "data2=file2.read()\n",
    "file2.close()\n",
    "\n",
    "file3 = open('wxy.txt','w')\n",
    "file3.write('\\n')\n",
    "file3.write(data2)\n",
    "file3.close()"
   ]
  },
  {
   "cell_type": "markdown",
   "metadata": {},
   "source": [
    "### 03) WAP to encrypt a text file."
   ]
  },
  {
   "cell_type": "code",
   "execution_count": 2,
   "metadata": {},
   "outputs": [
    {
     "name": "stdout",
     "output_type": "stream",
     "text": [
      "Enter Alphabets=abc\n",
      "Enter key=3\n"
     ]
    }
   ],
   "source": [
    "f = open(\"sqr.txt\",\"w\")\n",
    "x = input(\"Enter Alphabets=\")\n",
    "key = int(input(\"Enter key=\"))\n",
    "for i in range(len(x)):\n",
    "    f.write(chr(ord(x[i])+key))\n",
    "f.close()\n",
    "\n",
    "\n"
   ]
  },
  {
   "cell_type": "markdown",
   "metadata": {},
   "source": [
    "### 04) WAP to decrypt a previously encrypted file."
   ]
  },
  {
   "cell_type": "code",
   "execution_count": 4,
   "metadata": {},
   "outputs": [
    {
     "name": "stdout",
     "output_type": "stream",
     "text": [
      "Enter Alphabets=def\n",
      "Enter key=3\n"
     ]
    }
   ],
   "source": [
    "f = open(\"sqr.txt\",\"w\")\n",
    "x = input(\"Enter Alphabets=\")\n",
    "key = int(input(\"Enter key=\"))\n",
    "for i in range(len(x)):\n",
    "    f.write(chr(ord(x[i])-key))\n",
    "f.close()\n"
   ]
  },
  {
   "cell_type": "markdown",
   "metadata": {},
   "source": [
    "### 05) WAP to remove a word from text file."
   ]
  },
  {
   "cell_type": "code",
   "execution_count": 1,
   "metadata": {},
   "outputs": [
    {
     "name": "stdout",
     "output_type": "stream",
     "text": [
      "archi\n",
      "manav\n",
      "rhydham\n",
      "nidhi\n",
      "dipesh\n",
      "Enter Delete worddipesh\n",
      "\n",
      "archi\n",
      "manav\n",
      "rhydham\n",
      "nidhi\n",
      "\n"
     ]
    }
   ],
   "source": [
    "text_file = open(\"abc.txt\",\"r\")\n",
    "a = text_file.read()\n",
    "\n",
    "print(a)\n",
    "word = input(\"Enter Delete word : \")\n",
    "text = a.replace(word,\"\")\n",
    "\n",
    "print()\n",
    "print(text)\n"
   ]
  },
  {
   "cell_type": "code",
   "execution_count": 13,
   "metadata": {},
   "outputs": [
    {
     "name": "stdout",
     "output_type": "stream",
     "text": [
      "archi\n",
      "manav\n",
      "rhydham\n",
      "nidhi\n",
      "dipesh\n",
      "hello\n",
      "how\n",
      "are\n",
      "you\n",
      "Enter delete word=you\n",
      "\n",
      "archi\n",
      "manav\n",
      "rhydham\n",
      "nidhi\n",
      "dipesh\n",
      "hello\n",
      "how\n",
      "are\n",
      "\n"
     ]
    }
   ],
   "source": [
    "file=open('abc.txt','r')\n",
    "data=file.read()\n",
    "print(data)\n",
    "word = input('Enter delete word=')\n",
    "text = data.replace(word,\"\")\n",
    "print()\n",
    "print(text)"
   ]
  },
  {
   "cell_type": "code",
   "execution_count": null,
   "metadata": {},
   "outputs": [],
   "source": []
  }
 ],
 "metadata": {
  "kernelspec": {
   "display_name": "Python 3 (ipykernel)",
   "language": "python",
   "name": "python3"
  },
  "language_info": {
   "codemirror_mode": {
    "name": "ipython",
    "version": 3
   },
   "file_extension": ".py",
   "mimetype": "text/x-python",
   "name": "python",
   "nbconvert_exporter": "python",
   "pygments_lexer": "ipython3",
   "version": "3.9.13"
  },
  "vscode": {
   "interpreter": {
    "hash": "f1cbc9b3396aca8082bbb3e25968da6f88777d453b1af3d76596006268d9685c"
   }
  }
 },
 "nbformat": 4,
 "nbformat_minor": 4
}
