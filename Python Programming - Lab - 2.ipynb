{
 "cells": [
  {
   "cell_type": "markdown",
   "metadata": {},
   "source": [
    "\n",
    "<a href='https://www.darshan.ac.in/'> <img src='https://www.darshan.ac.in/Content/media/DU_Logo.svg' width=\"250\" height=\"300\"/></a>\n",
    "<pre>\n",
    "<center><b><h1>Python Programming - 2101CS405</b></center>\n",
    "<center><b><h1>Lab - 2</b></center>    \n",
    "<pre>"
   ]
  },
  {
   "cell_type": "markdown",
   "metadata": {},
   "source": [
    "# if..else.."
   ]
  },
  {
   "cell_type": "markdown",
   "metadata": {},
   "source": [
    "### 01) WAP to check whether the given number is positive or negative."
   ]
  },
  {
   "cell_type": "code",
   "execution_count": 1,
   "metadata": {},
   "outputs": [
    {
     "name": "stdout",
     "output_type": "stream",
     "text": [
      "Number is negative\n"
     ]
    }
   ],
   "source": [
    "num = int(input(\"Enter Number =\"))\n",
    "\n",
    "if num>0:\n",
    "    print(\"Number is positive\")\n",
    "elif num == 0:\n",
    "    print(\"Number is zero\")\n",
    "else :\n",
    "    print(\"Number is negative\")"
   ]
  },
  {
   "cell_type": "markdown",
   "metadata": {},
   "source": [
    "### 02) WAP to check whether the given number is odd or even"
   ]
  },
  {
   "cell_type": "code",
   "execution_count": 3,
   "metadata": {},
   "outputs": [
    {
     "name": "stdout",
     "output_type": "stream",
     "text": [
      "Number is odd\n"
     ]
    }
   ],
   "source": [
    "num = int(input(\"Enter number = \"))\n",
    "\n",
    "if num%2==0:\n",
    "    print(\"Number is even\")\n",
    "elif num%2 !=0:\n",
    "    print(\"Number is odd\")\n",
    "else:\n",
    "    print(\"Invalid Number\")\n"
   ]
  },
  {
   "cell_type": "markdown",
   "metadata": {},
   "source": [
    "### 03) WAP to find out largest number from given two numbers using simple if and ternary operator."
   ]
  },
  {
   "cell_type": "code",
   "execution_count": 6,
   "metadata": {},
   "outputs": [
    {
     "name": "stdout",
     "output_type": "stream",
     "text": [
      "Number 1= 6\n",
      "Number 2= 9\n",
      "Maxnumber 9\n"
     ]
    }
   ],
   "source": [
    "n1 = int(input(\"Enter number1=\"))\n",
    "n2 = int(input(\"Enter number2=\"))\n",
    "print(\"Number 1=\",n1)\n",
    "print(\"Number 2=\",n2)\n",
    "max = n1 if n1 > n2 else n2\n",
    "\n",
    "print(\"Max number=\",max)"
   ]
  },
  {
   "cell_type": "markdown",
   "metadata": {},
   "source": [
    "### 04) WAP to find out largest number from given three numbers."
   ]
  },
  {
   "cell_type": "code",
   "execution_count": 7,
   "metadata": {},
   "outputs": [
    {
     "name": "stdout",
     "output_type": "stream",
     "text": [
      "Number 1= 5\n",
      "Number 2= 6\n",
      "Number 3= 8\n",
      "Max number =  8\n"
     ]
    }
   ],
   "source": [
    "n1 = int(input(\"Enter number1=\"))\n",
    "n2 = int(input(\"Enter number2=\"))\n",
    "n3 = int(input(\"Enter number3=\"))\n",
    "print(\"Number 1=\",n1)\n",
    "print(\"Number 2=\",n2)\n",
    "print(\"Number 3=\",n3)\n",
    "\n",
    "max = (n1 if (n1 > n2 and n1 > n3) else\n",
    "     (n2 if (n2 > n1 and n2 > n3) else n3))\n",
    "\n",
    "print(\"Max number = \",max)"
   ]
  },
  {
   "cell_type": "markdown",
   "metadata": {},
   "source": [
    "### 05) WAP to check whether the given year is leap year or not.\n",
    "[If a year can be divisible by 4 but not divisible by 100 then it is leap year but if it is divisible by 400 then it is leap year]"
   ]
  },
  {
   "cell_type": "code",
   "execution_count": 8,
   "metadata": {},
   "outputs": [
    {
     "name": "stdout",
     "output_type": "stream",
     "text": [
      "2000 is a leap year\n"
     ]
    }
   ],
   "source": [
    "year = int(input(\"Enter Year =\"))\n",
    "\n",
    "if (year % 400 == 0) and (year % 100 == 0):\n",
    "    print(\"{0} is a leap year\".format(year))\n",
    "\n",
    "elif (year % 4 ==0) and (year % 100 != 0):\n",
    "    print(\"{0} is a leap year\".format(year))\n",
    "\n",
    "else:\n",
    "    print(\"{0} is not a leap year\".format(year))"
   ]
  },
  {
   "cell_type": "markdown",
   "metadata": {},
   "source": [
    "### 06) WAP in python to display the name of the day according to the number given by the user"
   ]
  },
  {
   "cell_type": "code",
   "execution_count": 9,
   "metadata": {},
   "outputs": [
    {
     "name": "stdout",
     "output_type": "stream",
     "text": [
      "\n",
      "Friday\n"
     ]
    }
   ],
   "source": [
    "weekday = int(input(\"Enter weekday day number : \"))\n",
    "\n",
    "if weekday == 1 :\n",
    "    print(\"\\nMonday\")\n",
    "\n",
    "elif weekday == 2 :\n",
    "    print(\"\\nTuesday\")\n",
    "\n",
    "elif(weekday == 3) :\n",
    "    print(\"\\nWednesday\")\n",
    "\n",
    "elif(weekday == 4) :\n",
    "    print(\"\\nThursday\")\n",
    "\n",
    "elif(weekday == 5) :\n",
    "    print(\"\\nFriday\")\n",
    "\n",
    "elif(weekday == 6) :\n",
    "    print(\"\\nSaturday\")\n",
    "\n",
    "elif (weekday == 7) :\n",
    "    print(\"\\nSunday\")\n",
    "\n",
    "else :\n",
    "    print(\"\\nPlease enter weekday number between 1-7.\")"
   ]
  },
  {
   "cell_type": "markdown",
   "metadata": {},
   "source": [
    "### 07) WAP to implement simple calculator which performs (add,sub,mul,div) of two no. based on user input."
   ]
  },
  {
   "cell_type": "code",
   "execution_count": 15,
   "metadata": {},
   "outputs": [
    {
     "name": "stdout",
     "output_type": "stream",
     "text": [
      "5\n",
      "6\n",
      "11\n"
     ]
    }
   ],
   "source": [
    "num1 = int(input(\"Enter number 1 =\"))\n",
    "num2 = int(input(\"Enter number 2 =\"))\n",
    "print(num1)\n",
    "print(num2)\n",
    "Op = int(input(\"Enter Op\"))\n",
    "\n",
    "if Op == 1:\n",
    "    print(num1 + num2)\n",
    "elif Op == 2:\n",
    "    print(num1-num2)\n",
    "elif Op == 3:\n",
    "    print(num1*num2)\n",
    "elif Op == 4:\n",
    "    print(num1/num2)\n",
    "else:\n",
    "    print(\"Please Enter number between 1 to 4\")"
   ]
  },
  {
   "cell_type": "markdown",
   "metadata": {},
   "source": [
    "### 08) WAP to calculate electricity bill based on following criteria. Which takes the unit from the user.\n",
    "a. First 1 to 50 units – Rs. 2.60/unit</br>\n",
    "b. Next 50 to 100 units – Rs. 3.25/unit</br>\n",
    "c. Next 100 to 200 units – Rs. 5.26/unit</br>\n",
    "d. above 200 units – Rs. 8.45/unit"
   ]
  },
  {
   "cell_type": "code",
   "execution_count": 3,
   "metadata": {},
   "outputs": [
    {
     "name": "stdout",
     "output_type": "stream",
     "text": [
      "Rupees is 2.60/unit\n"
     ]
    }
   ],
   "source": [
    "unit = float(input(\"Enter Unit =\"))\n",
    "\n",
    "if unit>1 and unit<50:\n",
    "    print(\"Rupees is 2.60/unit\")\n",
    "elif unit>50 and unit<100:\n",
    "    print(\"Rupees is 3.25/unit\")\n",
    "elif unit>100 and unit<200:\n",
    "    print(\"Rupees is 5.25/unit\")\n",
    "else:\n",
    "    print(\"Rupees is 8.45/unit\")"
   ]
  },
  {
   "cell_type": "markdown",
   "metadata": {},
   "source": [
    "### 01) WAP to read marks of five subjects. Calculate percentage and print class accordingly. \n",
    "Fail below 35 </br>\n",
    "Pass Class between 35 to 45 </br>\n",
    "Second Class</br>\n",
    "between 45 to 60</br>\n",
    "First Class between 60 to 70</br> \n",
    "Distinction if more than 70"
   ]
  },
  {
   "cell_type": "code",
   "execution_count": 5,
   "metadata": {},
   "outputs": [
    {
     "name": "stdout",
     "output_type": "stream",
     "text": [
      "Total = 428\n",
      "Percentage =  85.6\n",
      "Distinction\n"
     ]
    }
   ],
   "source": [
    "sub1 = int(input(\"Enter subject 1\"))\n",
    "sub2 = int(input(\"Enter subject 2\"))\n",
    "sub3 = int(input(\"Enter subject 3\"))\n",
    "sub4 = int(input(\"Enter subject 4\"))\n",
    "sub5 = int(input(\"Enter subject 5\"))\n",
    "\n",
    "total = sub1+ sub2 + sub3 + sub4 + sub5\n",
    "print(\"Total =\",total)\n",
    "\n",
    "per = (total/500)*100\n",
    "print(\"Percentage = \",per)\n",
    "\n",
    "if per<35:\n",
    "    print(\"Fail\")\n",
    "elif per>35 and per<45:\n",
    "    print(\"Pass\")\n",
    "elif per>45 and per<60:\n",
    "    print(\"Second class\")\n",
    "elif per>60 and per<70:\n",
    "    print(\"First class\")\n",
    "else:\n",
    "    print(\"Distinction\")"
   ]
  },
  {
   "cell_type": "markdown",
   "metadata": {},
   "source": [
    "### 02) WAP to find out the Maximum and Minimum number from given 4 numbers."
   ]
  },
  {
   "cell_type": "code",
   "execution_count": 3,
   "metadata": {},
   "outputs": [
    {
     "name": "stdout",
     "output_type": "stream",
     "text": [
      "Number 1 = 8\n",
      "Number 2 = 9\n",
      "Number 3 = 6\n",
      "Number 4 = 5\n",
      "Maximum number 9\n",
      "Minumum number 5\n"
     ]
    }
   ],
   "source": [
    "n1 = int(input(\"Enter number 1 =\"))\n",
    "n2 = int(input(\"Enter number 2 = \"))\n",
    "n3 = int(input(\"Enter number 3 =\"))\n",
    "n4 = int(input(\"Enter number 4 = \"))\n",
    "print(\"Number 1 =\",n1)\n",
    "print(\"Number 2 =\",n2)\n",
    "print(\"Number 3 =\",n3)\n",
    "print(\"Number 4 =\",n4)\n",
    "\n",
    "print(\"Maximum number\",max(n1,n2,n3,n4))\n",
    "\n",
    "print(\"Minumum number\", min(n1,n2,n3,n4))"
   ]
  },
  {
   "cell_type": "markdown",
   "metadata": {},
   "source": [
    "03) WAP to input an integer number and check the last digit of number is even or odd."
   ]
  },
  {
   "cell_type": "code",
   "execution_count": 6,
   "metadata": {},
   "outputs": [
    {
     "name": "stdout",
     "output_type": "stream",
     "text": [
      "22\n",
      "Number is Even\n"
     ]
    }
   ],
   "source": [
    "num = int(input(\"Enter Numebr =\"))\n",
    "\n",
    "print(num)\n",
    "\n",
    "if num%2==0:\n",
    "    print(\"Number is Even\")\n",
    "else:\n",
    "    print(\"Number is Odd\")"
   ]
  },
  {
   "cell_type": "markdown",
   "metadata": {},
   "source": [
    "### 04) WAP to determine the roots of the equation ax2+bx+c=0."
   ]
  },
  {
   "cell_type": "code",
   "execution_count": 8,
   "metadata": {},
   "outputs": [
    {
     "name": "stdout",
     "output_type": "stream",
     "text": [
      "Two Distinct Complex Roots Exists: root1 = -0.60+0.49 and root2 = -0.60-0.49\n"
     ]
    }
   ],
   "source": [
    "import math\n",
    "\n",
    "a = int(input(\"Please Enter a Value of a Quadratic Equation : \"))\n",
    "b = int(input(\"Please Enter b Value of a Quadratic Equation : \"))\n",
    "c = int(input(\"Please Enter c Value of a Quadratic Equation : \"))\n",
    "\n",
    "d = (b * b) - (4 * a * c)\n",
    "\n",
    "if(d > 0):\n",
    "    root1 = (-b + math.sqrt(d) / (2 * a))\n",
    "    root2 = (-b - math.sqrt(d) / (2 * a))\n",
    "    print(\"Two Distinct Real Roots Exists: root1 = %.2f and root2 = %.2f\" %(root1, root2))\n",
    "elif(d == 0):\n",
    "    root1 = root2 = -b / (2 * a)\n",
    "    print(\"Two Equal and Real Roots Exists: root1 = %.2f and root2 = %.2f\" %(root1, root2))\n",
    "elif(d < 0):\n",
    "    root1 = root2 = -b / (2 * a)\n",
    "    imaginary = math.sqrt(-d) / (2 * a)\n",
    "    print(\"Two Distinct Complex Roots Exists: root1 = %.2f+%.2f and root2 = %.2f-%.2f\" %(root1, imaginary, root2, imaginary))"
   ]
  }
 ],
 "metadata": {
  "kernelspec": {
   "display_name": "Python 3",
   "language": "python",
   "name": "python3"
  },
  "language_info": {
   "codemirror_mode": {
    "name": "ipython",
    "version": 3
   },
   "file_extension": ".py",
   "mimetype": "text/x-python",
   "name": "python",
   "nbconvert_exporter": "python",
   "pygments_lexer": "ipython3",
   "version": "3.11.0 (main, Oct 24 2022, 18:26:48) [MSC v.1933 64 bit (AMD64)]"
  },
  "vscode": {
   "interpreter": {
    "hash": "f1cbc9b3396aca8082bbb3e25968da6f88777d453b1af3d76596006268d9685c"
   }
  }
 },
 "nbformat": 4,
 "nbformat_minor": 4
}
