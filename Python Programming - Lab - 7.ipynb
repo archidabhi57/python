{
 "cells": [
  {
   "cell_type": "markdown",
   "metadata": {},
   "source": [
    "<a href='https://www.darshan.ac.in/'> <img src='https://www.darshan.ac.in/Content/media/DU_Logo.svg' width=\"250\" height=\"300\"/></a>\n",
    "<pre>\n",
    "<center><b><h1>Python Programming - 2101CS405</b></center>\n",
    "<center><b><h1>Lab - 7</b></center>    \n",
    "<pre>"
   ]
  },
  {
   "cell_type": "markdown",
   "metadata": {},
   "source": [
    "# Functions"
   ]
  },
  {
   "cell_type": "markdown",
   "metadata": {},
   "source": [
    "### 01) WAP to count simple interest using function."
   ]
  },
  {
   "cell_type": "code",
   "execution_count": 3,
   "metadata": {},
   "outputs": [
    {
     "name": "stdout",
     "output_type": "stream",
     "text": [
      "Enter Amount=55\n",
      "Enter Year=33\n",
      "Enter Rate=55\n",
      "998.25\n"
     ]
    }
   ],
   "source": [
    "def simpleInterest(Amount,Year,Rate):\n",
    "    SI =(Amount*Year*Rate)/100\n",
    "    return SI\n",
    "\n",
    "Amount= int(input(\"Enter Amount=\"))\n",
    "Year = int(input(\"Enter Year=\"))\n",
    "Rate = int(input(\"Enter Rate=\"))\n",
    "\n",
    "print(simpleInterest(Amount,Year,Rate))"
   ]
  },
  {
   "cell_type": "markdown",
   "metadata": {},
   "source": [
    "### 02) WAP that defines a function to add first n numbers."
   ]
  },
  {
   "cell_type": "code",
   "execution_count": 10,
   "metadata": {},
   "outputs": [
    {
     "name": "stdout",
     "output_type": "stream",
     "text": [
      "Enter Number=5\n",
      "0\n",
      "1\n",
      "2\n",
      "3\n",
      "4\n",
      "5\n",
      "addition of first n number 15\n"
     ]
    }
   ],
   "source": [
    "def addFirstNo(a):\n",
    "    sum=0\n",
    "    for i in range(a+1):\n",
    "        sum +=i\n",
    "        print(i)\n",
    "    return sum\n",
    "a= int(input(\"Enter Number=\"))\n",
    "print(\"addition of first n number=\",addFirstNo(a))"
   ]
  },
  {
   "cell_type": "code",
   "execution_count": 1,
   "metadata": {},
   "outputs": [
    {
     "name": "stdout",
     "output_type": "stream",
     "text": [
      "Enter number=2\n",
      "0\n",
      "1\n",
      "2\n",
      "addition 3\n"
     ]
    }
   ],
   "source": [
    "def addFirst(a):\n",
    "    sum= 0\n",
    "    for i in range(a+1):\n",
    "        sum+=i\n",
    "        print(i)\n",
    "    return sum\n",
    "a= int(input(\"Enter number=\"))\n",
    "print('addition',addFirst(a))"
   ]
  },
  {
   "cell_type": "markdown",
   "metadata": {},
   "source": [
    "### 03) WAP to find maximum number from given two numbers using function."
   ]
  },
  {
   "cell_type": "code",
   "execution_count": 15,
   "metadata": {},
   "outputs": [
    {
     "name": "stdout",
     "output_type": "stream",
     "text": [
      "Enter Number1=5\n",
      "Enter Number2=8\n",
      "Maximum number of given two number = 8\n"
     ]
    }
   ],
   "source": [
    "# def maxNumber(a,b):\n",
    "#     if(a>b):\n",
    "#         return a\n",
    "#     else:\n",
    "#         return b\n",
    "# a = int(input(\"Enter Number1=\"))\n",
    "# b = int(input(\"Enter Number2=\"))\n",
    "\n",
    "# print(\"Maximum number of given two number =\",maxNumber(a,b))\n",
    "\n",
    "ans = lambda a,b: a if a>b else b\n",
    "a = int(input(\"Enter Number1=\"))\n",
    "b = int(input(\"Enter Number2=\"))\n",
    "print(\"Maximum number of given two number =\",ans(a,b))"
   ]
  },
  {
   "cell_type": "markdown",
   "metadata": {},
   "source": [
    "### 04) WAP that defines a function which returns 1 if the number is prime otherwise return 0."
   ]
  },
  {
   "cell_type": "code",
   "execution_count": 10,
   "metadata": {},
   "outputs": [
    {
     "name": "stdout",
     "output_type": "stream",
     "text": [
      "Enter Number=5\n",
      "0\n"
     ]
    }
   ],
   "source": [
    "def primeNumber(n):\n",
    "    if n ==1:\n",
    "        return 0\n",
    "    elif n>1:\n",
    "        for i in range(2,n):\n",
    "            if(n%i)==0:\n",
    "                return 0\n",
    "            \n",
    "            \n",
    "        else:\n",
    "            return 1\n",
    "       \n",
    "    else:\n",
    "        return 0\n",
    "    \n",
    "a = int(input(\"Enter Number=\"))\n",
    "print(primeNumber(n))\n",
    "\n",
    "\n",
    "\n",
    "# ans = lambda a : primeNumber(a)\n",
    "\n",
    "# x = ans(a)\n",
    "# if x==1:\n",
    "#     print(\"Prime\")\n",
    "# else:\n",
    "#     print(\"Not Prime\")\n",
    "    \n",
    "# print(x)"
   ]
  },
  {
   "cell_type": "code",
   "execution_count": 12,
   "metadata": {},
   "outputs": [
    {
     "name": "stdout",
     "output_type": "stream",
     "text": [
      "Enter number=6\n",
      "0\n"
     ]
    }
   ],
   "source": [
    "def primeNumber(n):\n",
    "    if n==1:\n",
    "        return 0\n",
    "    elif n>1:\n",
    "        for i in range(2,n):\n",
    "            if (n%i)==0:\n",
    "                return 0\n",
    "        else:\n",
    "            return 1\n",
    "    else:\n",
    "        return 0\n",
    "    \n",
    "n = int(input(\"Enter number=\"))\n",
    "print(primeNumber(n))"
   ]
  },
  {
   "cell_type": "markdown",
   "metadata": {},
   "source": [
    "\n",
    "\n",
    "\n",
    "\n",
    "### 05) Write a function called primes that takes an integer value as an argument and returns a list of all prime numbers up to that number."
   ]
  },
  {
   "cell_type": "code",
   "execution_count": 32,
   "metadata": {},
   "outputs": [
    {
     "name": "stdout",
     "output_type": "stream",
     "text": [
      "Enter Number=8\n",
      "[2, 3, 5, 7]\n"
     ]
    }
   ],
   "source": [
    "def primes(n):\n",
    "        for i in range(2,n+1):\n",
    "            for j in range(2,i):\n",
    "                if(i%j==0):\n",
    "                    break\n",
    "            else:\n",
    "                list.append(i)\n",
    "        return list\n",
    "list = []\n",
    "n = int(input(\"Enter Number=\"))\n",
    "print(primes(n))"
   ]
  },
  {
   "cell_type": "markdown",
   "metadata": {},
   "source": [
    "### 06) WAP to generate Fibonacci series of N given number using function name fibbo. (e.g. 0 1 1 2 3 5 8...)"
   ]
  },
  {
   "cell_type": "code",
   "execution_count": 51,
   "metadata": {},
   "outputs": [
    {
     "name": "stdout",
     "output_type": "stream",
     "text": [
      "Enter number=8\n",
      "0\n",
      "1\n",
      "1\n",
      "2\n",
      "3\n",
      "5\n",
      "8\n",
      "13\n",
      "21\n"
     ]
    }
   ],
   "source": [
    "def fibonacci(n):\n",
    "    first=0\n",
    "    second=1\n",
    "    sum=0\n",
    "    for i in range(0,n+1):\n",
    "        if(i<=1):\n",
    "            sum=sum+i\n",
    "            print(sum)\n",
    "        else:\n",
    "            sum = first+second\n",
    "            print(sum)\n",
    "            first=second\n",
    "            second=sum\n",
    "\n",
    "\n",
    "n = int(input(\"Enter number=\"))\n",
    "\n",
    "fibonacci(n)\n",
    "\n"
   ]
  },
  {
   "cell_type": "markdown",
   "metadata": {},
   "source": [
    "### 07) WAP to find the factorial of a given number using recursion."
   ]
  },
  {
   "cell_type": "code",
   "execution_count": 3,
   "metadata": {},
   "outputs": [
    {
     "name": "stdout",
     "output_type": "stream",
     "text": [
      "Enter a number: 5\n",
      "The factorial of 5 = 120\n"
     ]
    }
   ],
   "source": [
    "def factorial(x):\n",
    "    if x == 1:\n",
    "        return 1\n",
    "    else:\n",
    "        return (x * factorial(x-1))\n",
    "\n",
    "\n",
    "num = int(input(\"Enter a number: \"))\n",
    "\n",
    "result = factorial(num)\n",
    "print(\"The factorial of\", num, \"=\", result)"
   ]
  },
  {
   "cell_type": "markdown",
   "metadata": {},
   "source": [
    "### 08) WAP to implement simple calculator using lamda function."
   ]
  },
  {
   "cell_type": "code",
   "execution_count": 7,
   "metadata": {},
   "outputs": [
    {
     "name": "stdout",
     "output_type": "stream",
     "text": [
      "Enter First Number=5\n",
      "Enter Second Number=3\n",
      "==============================\n",
      "Addition Of Number= 8\n",
      "Subtraction Of Number= 2\n",
      "Multiplication Of Number= 15\n",
      "Division Of Number= 1.6666666666666667\n"
     ]
    }
   ],
   "source": [
    "Addition = lambda a,b :a+b\n",
    "Subtraction = lambda a,b : a-b\n",
    "Multiplication = lambda a,b : a*b\n",
    "Division = lambda a,b : a/b\n",
    "\n",
    "a = int(input(\"Enter First Number=\"))\n",
    "b = int(input(\"Enter Second Number=\"))\n",
    "print(\"==============================\")\n",
    "print(\"Addition Of Number=\",Addition(a,b))\n",
    "print(\"Subtraction Of Number=\",Subtraction(a,b))\n",
    "print(\"Multiplication Of Number=\",Multiplication(a,b))\n",
    "print(\"Division Of Number=\",Division(a,b))"
   ]
  },
  {
   "cell_type": "markdown",
   "metadata": {},
   "source": [
    "### 09)Write a Python program that accepts a hyphen-separated sequence of words as input and prints the words in a hyphen-separated sequence after sorting them alphabetically\n",
    "Sample Items : green-red-yellow-black-white <br>\n",
    "Expected Result : black-green-red-white-yellow"
   ]
  },
  {
   "cell_type": "code",
   "execution_count": 9,
   "metadata": {},
   "outputs": [
    {
     "name": "stdout",
     "output_type": "stream",
     "text": [
      "green red yellow black white\n",
      "green red yellow black white\n"
     ]
    }
   ],
   "source": [
    "n=input(\"ENTER THE STRING: \")\n",
    "l=n.split('-')\n",
    "l.sort()\n",
    "print(\"EXPECTED RESULT:\",'-'.join(l))"
   ]
  },
  {
   "cell_type": "markdown",
   "metadata": {},
   "source": [
    "### 10) Write a python program to implement all function arguments type\n",
    "Positional arguments <Br>\n",
    "Default argument <Br>\n",
    "Keyword arguments (named arguments) <Br>\n",
    "Arbitrary arguments (variable-length arguments args and kwargs)"
   ]
  },
  {
   "cell_type": "code",
   "execution_count": null,
   "metadata": {},
   "outputs": [],
   "source": [
    "#Positional arguments:\n",
    "def add (a,b):\n",
    "    return a+b\n",
    "print(\"{Positional arguments} ADDITION:\",add(10,20))\n",
    "\n",
    "#Default argument:\n",
    "def add (a,b=20):\n",
    "    return a+b\n",
    "print(\"{Default argument} ADDITION:\",add(10))"
   ]
  },
  {
   "cell_type": "code",
   "execution_count": null,
   "metadata": {},
   "outputs": [],
   "source": [
    "#Keyword arguments (named arguments):\n",
    "def add (a=10,b=20):\n",
    "    return a+b\n",
    "print(\"{Keyword arguments} ADDITION:\",add())\n",
    "\n",
    "#Arbitrary arguments (variable-length arguments args and kwargs):\n",
    "#Positional:\n",
    "def add (*a):\n",
    "    sum=0\n",
    "    for i in a:\n",
    "        sum+=i\n",
    "    print(\"Arbitrary arguments: {Positional}: ADDITION:\",sum)\n",
    "add(5,4,3,1,2)\n",
    "\n",
    "#Keyword:\n",
    "def add (**a):\n",
    "    sum=0\n",
    "    for i in a.values():\n",
    "        sum+=i\n",
    "    print(\"Arbitrary arguments: {Keyword}: ADDITION:\",sum)\n",
    "add(a=5,b=4,c=3,d=1,e=2)"
   ]
  },
  {
   "cell_type": "markdown",
   "metadata": {},
   "source": [
    "### 01) WAP to calculate power of a number using recursion."
   ]
  },
  {
   "cell_type": "code",
   "execution_count": null,
   "metadata": {},
   "outputs": [],
   "source": [
    "def power(Base,Expo):\n",
    "    if Expo==0:\n",
    "        return 1\n",
    "    return (Base*power(Base,Expo-1))\n",
    "Base = int(input('ENTER BASE:'))\n",
    "Expo = int(input('ENTER EXPONENT'))\n",
    "print(f\"{Base}^{Expo} ==\",power(Base,Expo))    \n",
    "  "
   ]
  },
  {
   "cell_type": "markdown",
   "metadata": {},
   "source": [
    "### 02) WAP to count digits of a number using recursion."
   ]
  },
  {
   "cell_type": "code",
   "execution_count": null,
   "metadata": {},
   "outputs": [],
   "source": [
    "def digit(n):\n",
    "    if n==0:\n",
    "        return 0\n",
    "    return digit(int(n/10))+1\n",
    "\n",
    "n=int(input('ENTER A NUMBER:'))    \n",
    "print(\"NUMBER OF DIGIT:~ \",digit(n))"
   ]
  },
  {
   "cell_type": "markdown",
   "metadata": {},
   "source": [
    "### 03) WAP to reverse an integer number using recursion."
   ]
  },
  {
   "cell_type": "code",
   "execution_count": null,
   "metadata": {},
   "outputs": [],
   "source": [
    "def revr_reverse(n):\n",
    "    global rev_num\n",
    "    if(n>0):\n",
    "        Reminder=n%10\n",
    "        rev_num=(rev_num*10)+Reminder\n",
    "        revr_reverse(n//10)\n",
    "    return rev_num\n",
    "\n",
    "n=int(input('ENTER A NUMBER: '))  \n",
    "rev_num=0\n",
    "print(\"REVERSE NUMBER:~ \",revr_reverse(n))"
   ]
  },
  {
   "cell_type": "markdown",
   "metadata": {},
   "source": [
    "### 04) WAP to convert decimal number into binary using recursion."
   ]
  },
  {
   "cell_type": "code",
   "execution_count": null,
   "metadata": {},
   "outputs": [],
   "source": [
    "def convertToBinary(n):\n",
    "    if n==0:\n",
    "        return 0\n",
    "    else:\n",
    "        return(n%2+10*convertToBinary(n//2))\n",
    "            \n",
    "n=int(input('ENTER A NUMBER (DECIMAL): '))  \n",
    "print(\"BINARY :~ \",convertToBinary(n))"
   ]
  }
 ],
 "metadata": {
  "kernelspec": {
   "display_name": "Python 3 (ipykernel)",
   "language": "python",
   "name": "python3"
  },
  "language_info": {
   "codemirror_mode": {
    "name": "ipython",
    "version": 3
   },
   "file_extension": ".py",
   "mimetype": "text/x-python",
   "name": "python",
   "nbconvert_exporter": "python",
   "pygments_lexer": "ipython3",
   "version": "3.9.13"
  }
 },
 "nbformat": 4,
 "nbformat_minor": 4
}
