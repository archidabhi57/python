{
 "cells": [
  {
   "cell_type": "markdown",
   "metadata": {},
   "source": [
    "<a href='https://www.darshan.ac.in/'> <img src='https://www.darshan.ac.in/Content/media/DU_Logo.svg' width=\"250\" height=\"300\"/></a>\n",
    "<pre>\n",
    "<center><b><h1>Python Programming - 2101CS405</b></center>\n",
    "<center><b><h1>Lab - 6</b></center>    \n",
    "<pre>"
   ]
  },
  {
   "cell_type": "markdown",
   "metadata": {},
   "source": [
    "# Tuples, dictionary, set"
   ]
  },
  {
   "cell_type": "markdown",
   "metadata": {},
   "source": [
    "# A"
   ]
  },
  {
   "cell_type": "markdown",
   "metadata": {},
   "source": [
    "### 01) WAP to sort python dictionary by key or value."
   ]
  },
  {
   "cell_type": "code",
   "execution_count": 1,
   "metadata": {},
   "outputs": [
    {
     "name": "stdout",
     "output_type": "stream",
     "text": [
      "Enter element to get how many key =2\n",
      "Enter Keysarchi\n",
      "Enter Values5\n",
      "Enter Keysxyz\n",
      "Enter Values8\n",
      "Dict : {'archi': '5', 'xyz': '8'}\n",
      "Sorted Dict:{'archi': '5', 'xyz': '8'}\n"
     ]
    }
   ],
   "source": [
    "users ={}\n",
    "a = int(input(\"Enter element to get how many key =\"))\n",
    "for i in range(a):\n",
    "    key = input(\"Enter Keys\")\n",
    "    value = input(\"Enter Values\")\n",
    "    users[key] =value\n",
    "print(f\"Dict : {users}\")\n",
    "mykeys = list(users.keys())\n",
    "mykeys.sort()\n",
    "sorted_dict={i : users[i] for i in mykeys}\n",
    "print(f\"Sorted Dict:{sorted_dict}\")"
   ]
  },
  {
   "cell_type": "markdown",
   "metadata": {},
   "source": [
    "### 02) WAP to merge two dictionaries given by user."
   ]
  },
  {
   "cell_type": "code",
   "execution_count": 2,
   "metadata": {},
   "outputs": [
    {
     "name": "stdout",
     "output_type": "stream",
     "text": [
      "Enter element to get how many key =2\n",
      "Enter Keysxyz\n",
      "Enter Values6\n",
      "Enter Keysree\n",
      "Enter Values6\n",
      "Enter element to get how many key =2\n",
      "Enter Keysaaa\n",
      "Enter Values8\n",
      "Enter Keyswww\n",
      "Enter Values3\n",
      "Dict : {'xyz': '6', 'ree': '6'}\n",
      "Dict : {'aaa': '8', 'www': '3'}\n",
      "Merge :{'xyz': '6', 'ree': '6', 'aaa': '8', 'www': '3'}\n"
     ]
    }
   ],
   "source": [
    "users1 ={}\n",
    "a = int(input(\"Enter element to get how many key =\"))\n",
    "for i in range(a):\n",
    "    key = input(\"Enter Keys=\")\n",
    "    value = input(\"Enter Values=\")\n",
    "    users1[key] =value\n",
    "\n",
    "users2 ={}\n",
    "b = int(input(\"Enter element to get how many key =\"))\n",
    "for i in range(b):\n",
    "    key = input(\"Enter Keys=\")\n",
    "    value = input(\"Enter Values=\")\n",
    "    users2[key] =value\n",
    "    \n",
    "print(f\"Dict : {users1}\")\n",
    "print(f\"Dict : {users2}\")\n",
    "\n",
    "users3=users1.copy()\n",
    "for key,value in users2.items():\n",
    "    users3[key] = value\n",
    "print(f\"Merge :{users3}\")"
   ]
  },
  {
   "cell_type": "markdown",
   "metadata": {},
   "source": [
    "### 03) WAP to find tuples that have all elements divisible by K from a list of tuples."
   ]
  },
  {
   "cell_type": "code",
   "execution_count": 4,
   "metadata": {},
   "outputs": [
    {
     "name": "stdout",
     "output_type": "stream",
     "text": [
      "Enter Number for size of element:2\n",
      "1 2 3 \n",
      "4 5 9 \n",
      "The original list:[('1', '2', '3'), ('4', '5', '9')]\n",
      "Enter value of K=2\n",
      "[]\n"
     ]
    }
   ],
   "source": [
    "test_list=[]\n",
    "a = int(input(\"Enter Number for size of element:\"))\n",
    "for i in range(a):\n",
    "    str1 = tuple(input().split())\n",
    "    test_list.append(str1)\n",
    "print(f\"The original list:{test_list}\")a\n",
    "\n",
    "K = int(input(\"Enter value of K=\"))\n",
    "b = list(filter(lambda listapp:all(int(element)%K==0 for element in listapp),test_list))\n",
    "print(b)"
   ]
  },
  {
   "cell_type": "markdown",
   "metadata": {},
   "source": [
    "### 04) WAP to find Tuples with positive elements in List of tuples."
   ]
  },
  {
   "cell_type": "code",
   "execution_count": 5,
   "metadata": {},
   "outputs": [
    {
     "name": "stdout",
     "output_type": "stream",
     "text": [
      "Enter Number for size of element:2\n",
      "1 -2 -3\n",
      "1 2 3\n",
      "The original list:[('1', '-2', '-3'), ('1', '2', '3')]\n",
      "Positive Element in list of tuple [('1', '2', '3')]\n"
     ]
    }
   ],
   "source": [
    "test_list=[]\n",
    "a = int(input(\"Enter Number for size of element:\"))\n",
    "for i in range(a):\n",
    "    str1 = tuple(input().split())\n",
    "    test_list.append(str1)\n",
    "print(f\"The original list:{test_list}\")\n",
    "positveElement = list(filter(lambda listapp:all(int(element)>0 for element in listapp),test_list))\n",
    "print(\"Positive Element in list of tuple\",positveElement)"
   ]
  },
  {
   "cell_type": "markdown",
   "metadata": {},
   "source": [
    "### 05) WAP which perform union of two sets."
   ]
  },
  {
   "cell_type": "code",
   "execution_count": 11,
   "metadata": {},
   "outputs": [
    {
     "name": "stdout",
     "output_type": "stream",
     "text": [
      "Enter number of element=5\n",
      "Enter set of number=1\n",
      "Enter set of number=2\n",
      "Enter set of number=3\n",
      "Enter set of number=2\n",
      "Enter set of number=6\n",
      "List1= {'1', '2', '6', '3'}\n",
      "Enter number of element=5\n",
      "Enter set of number=8\n",
      "Enter set of number=9\n",
      "Enter set of number=6\n",
      "Enter set of number=5\n",
      "Enter set of number=8\n",
      "List2= {'8', '9', '6', '5'}\n",
      "{'6', '9', '1', '5', '8', '3', '2'}\n"
     ]
    }
   ],
   "source": [
    "A = int(input(\"Enter number of element=\"))\n",
    "list1=[]\n",
    "for i in range(A):\n",
    "    set1 = input(\"Enter set of number=\")\n",
    "    list1.append(set1)\n",
    "list1=set(list1)\n",
    "print(\"List1=\",list1)\n",
    "\n",
    "B = int(input(\"Enter number of element=\"))\n",
    "list2=[]\n",
    "for i in range(B):\n",
    "    set2 = input(\"Enter set of number=\")\n",
    "    list2.append(set2)\n",
    "list2=set(list2)\n",
    "print(\"List2=\",list2)\n",
    "\n",
    "z = list1.union(list2)\n",
    "\n",
    "print(z)\n"
   ]
  },
  {
   "cell_type": "markdown",
   "metadata": {},
   "source": [
    "# B"
   ]
  },
  {
   "cell_type": "markdown",
   "metadata": {},
   "source": [
    "### 01) WAP to convert binary tuple into integer."
   ]
  },
  {
   "cell_type": "code",
   "execution_count": 13,
   "metadata": {},
   "outputs": [
    {
     "name": "stdout",
     "output_type": "stream",
     "text": [
      "Enter Number for size of element:3\n",
      "1\n",
      "1\n",
      "1\n",
      "The original list:(1, 1, 1)\n",
      "7\n"
     ]
    }
   ],
   "source": [
    "test_list=[]\n",
    "a = int(input(\"Enter Number for size of element:\"))\n",
    "for i in range(a):\n",
    "    str1 = int(input())\n",
    "    test_list.append(str1)\n",
    "test_list=tuple(test_list)\n",
    "print(f\"The original list:{test_list}\")\n",
    "\n",
    "result = int(\"\".join(str(element) for element in test_list),2)\n",
    "\n",
    "print(result)"
   ]
  },
  {
   "cell_type": "markdown",
   "metadata": {},
   "source": [
    "### 02) WAP to count frequency in list by dictionary."
   ]
  },
  {
   "cell_type": "code",
   "execution_count": 17,
   "metadata": {},
   "outputs": [
    {
     "name": "stdout",
     "output_type": "stream",
     "text": [
      "{1: 2, 2: 2, 3: 1, 5: 1}\n"
     ]
    }
   ],
   "source": [
    "test_list=[1,2,3,5,2,1]\n",
    "frequency ={}\n",
    "for i in test_list:\n",
    "    if i in frequency:\n",
    "        frequency[i]+=1\n",
    "    else:\n",
    "        frequency[i]=1\n",
    "        \n",
    "print(frequency)\n"
   ]
  },
  {
   "cell_type": "markdown",
   "metadata": {},
   "source": [
    "### 03) WAP to remove all the duplicate words from the list using dictionary."
   ]
  },
  {
   "cell_type": "code",
   "execution_count": null,
   "metadata": {},
   "outputs": [
    {
     "ename": "TypeError",
     "evalue": "'list' object cannot be interpreted as an integer",
     "output_type": "error",
     "traceback": [
      "\u001b[1;31m---------------------------------------------------------------------------\u001b[0m",
      "\u001b[1;31mTypeError\u001b[0m                                 Traceback (most recent call last)",
      "Cell \u001b[1;32mIn[8], line 3\u001b[0m\n\u001b[0;32m      1\u001b[0m mylist \u001b[39m=\u001b[39m [\u001b[39m\"\u001b[39m\u001b[39ma\u001b[39m\u001b[39m\"\u001b[39m, \u001b[39m\"\u001b[39m\u001b[39mb\u001b[39m\u001b[39m\"\u001b[39m, \u001b[39m\"\u001b[39m\u001b[39ma\u001b[39m\u001b[39m\"\u001b[39m, \u001b[39m\"\u001b[39m\u001b[39mc\u001b[39m\u001b[39m\"\u001b[39m, \u001b[39m\"\u001b[39m\u001b[39mc\u001b[39m\u001b[39m\"\u001b[39m]\n\u001b[0;32m      2\u001b[0m res \u001b[39m=\u001b[39m {}\n\u001b[1;32m----> 3\u001b[0m mydict \u001b[39m=\u001b[39m \u001b[39mlist\u001b[39m(mylist\u001b[39m.\u001b[39;49mpop(mylist))\n\u001b[0;32m      4\u001b[0m \u001b[39mprint\u001b[39m(mydict)\n",
      "\u001b[1;31mTypeError\u001b[0m: 'list' object cannot be interpreted as an integer"
     ]
    }
   ],
   "source": [
    "n = int(input('ENTER SIZE OF THE ELEMENTS:'))\n",
    "li=[]\n",
    "for i in range(n):\n",
    "    x=int(input('ENTER A ELEMENTS:'))\n",
    "    li.append(x)\n",
    "li=list(dict.fromkeys(li))\n",
    "print(li)"
   ]
  }
 ],
 "metadata": {
  "kernelspec": {
   "display_name": "Python 3 (ipykernel)",
   "language": "python",
   "name": "python3"
  },
  "language_info": {
   "codemirror_mode": {
    "name": "ipython",
    "version": 3
   },
   "file_extension": ".py",
   "mimetype": "text/x-python",
   "name": "python",
   "nbconvert_exporter": "python",
   "pygments_lexer": "ipython3",
   "version": "3.9.13"
  },
  "vscode": {
   "interpreter": {
    "hash": "f1cbc9b3396aca8082bbb3e25968da6f88777d453b1af3d76596006268d9685c"
   }
  }
 },
 "nbformat": 4,
 "nbformat_minor": 4
}
