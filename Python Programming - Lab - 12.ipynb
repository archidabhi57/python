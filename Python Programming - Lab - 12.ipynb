{
 "cells": [
  {
   "cell_type": "markdown",
   "metadata": {},
   "source": [
    "<a href='https://www.darshan.ac.in/'> <img src='https://www.darshan.ac.in/Content/media/DU_Logo.svg' width=\"250\" height=\"300\"/></a>\n",
    "<pre>\n",
    "<center><b><h1>Python Programming - 2101CS405</b></center>\n",
    "<center><b><h1>Lab - 12</b></center>    \n",
    "<pre>"
   ]
  },
  {
   "cell_type": "markdown",
   "metadata": {},
   "source": [
    "# OOP"
   ]
  },
  {
   "cell_type": "markdown",
   "metadata": {},
   "source": [
    "### 01) Write a Program to create a class by name Students, and initialize attributes like name, age, and grade while creating an object."
   ]
  },
  {
   "cell_type": "code",
   "execution_count": 1,
   "metadata": {},
   "outputs": [
    {
     "name": "stdout",
     "output_type": "stream",
     "text": [
      "Student Name: Archi\n",
      "Student Age: 19\n",
      "Student Grade: 5555\n"
     ]
    }
   ],
   "source": [
    "class Students:\n",
    "    def __init__(self,name,age,grade):\n",
    "        self.name=name\n",
    "        self.age=age\n",
    "        self.grade=grade\n",
    "    def getData(self):\n",
    "        print(f\"Student Name:\",self.name)\n",
    "        print(f\"Student Age:\",self.age)\n",
    "        print(f\"Student Grade:\",self.grade)\n",
    "d= Students(\"Archi\",19,\"5555\")\n",
    "d.getData()"
   ]
  },
  {
   "cell_type": "markdown",
   "metadata": {},
   "source": [
    "### 02) Create a class named Bank_Account with Account_No, User_Name, Email,Account_Type and Account_Balance data members. Also create a method GetAccountDetails() and DisplayAccountDetails(). Create main method to demonstrate the Bank_Account class."
   ]
  },
  {
   "cell_type": "code",
   "execution_count": 2,
   "metadata": {},
   "outputs": [
    {
     "name": "stdout",
     "output_type": "stream",
     "text": [
      "Account_No: 125638\n",
      "User_Name: Archi\n",
      "Email: 125638\n",
      "Account_Type: saving\n",
      "Account_Balance: 70000\n"
     ]
    }
   ],
   "source": [
    "class Bank_Account:\n",
    "    def GetAccountDetails(self,Account_No, User_Name, Email,Account_Type,Account_Balance):\n",
    "        self.Account_No=Account_No\n",
    "        self.User_Name=User_Name\n",
    "        self.Email=Email\n",
    "        self.Account_Type=Account_Type\n",
    "        self.Account_Balance=Account_Balance\n",
    "    def DisplayAccountDetails(self):\n",
    "        print(f\"Account_No:\", self.Account_No)\n",
    "        print(f\"User_Name:\", self.User_Name)\n",
    "        print(f\"Email:\", self.Account_No)\n",
    "        print(f\"Account_Type:\", self.Account_Type)\n",
    "        print(f\"Account_Balance:\", self.Account_Balance)\n",
    "k=Bank_Account()\n",
    "k.GetAccountDetails(125638,\"Archi\",\"archidabhi@gmail.com\",\"saving\",70000)\n",
    "k.DisplayAccountDetails()"
   ]
  },
  {
   "cell_type": "markdown",
   "metadata": {},
   "source": [
    "### 03) WAP to create Circle class with area and perimeter function to find area and perimeter of circle."
   ]
  },
  {
   "cell_type": "code",
   "execution_count": 14,
   "metadata": {},
   "outputs": [
    {
     "name": "stdout",
     "output_type": "stream",
     "text": [
      "Enter radius of circle: 5\n",
      "Area of circle: 78.54\n",
      "Perimeter of circle: 31.42\n"
     ]
    }
   ],
   "source": [
    "import math\n",
    "class circle():\n",
    "    def __init__(self,radius):\n",
    "        self.radius=radius\n",
    "    def area(self):\n",
    "        return math.pi*(self.radius**2)\n",
    "    def perimeter(self):\n",
    "        return 2*math.pi*self.radius\n",
    "r=int(input(\"Enter radius of circle: \"))\n",
    "obj=circle(r)\n",
    "print(\"Area of circle:\",round(obj.area(),2))\n",
    "print(\"Perimeter of circle:\",round(obj.perimeter(),2))"
   ]
  },
  {
   "cell_type": "markdown",
   "metadata": {},
   "source": [
    "### 04) Create a class for employees that includes attributes such as name, age, salary, and methods to update and display employee information."
   ]
  },
  {
   "cell_type": "code",
   "execution_count": 3,
   "metadata": {},
   "outputs": [
    {
     "name": "stdout",
     "output_type": "stream",
     "text": [
      "Enter name: Archi\n",
      "Enter age: 10\n",
      "Enter salary: 5555\n",
      "----------------------------\n",
      "Name:  Archi\n",
      "Age:  10.0\n",
      "Salary:  5555.0\n",
      "----------------------------\n",
      "Enter name: Archi\n",
      "Enter age: 19\n",
      "Enter salary: 5000000\n",
      "----------------------------\n",
      "Name:  Archi\n",
      "Age:  19.0\n",
      "Salary:  5000000.0\n",
      "----------------------------\n"
     ]
    }
   ],
   "source": [
    "class employees:\n",
    "    def getEmployeeDetails(self):\n",
    "        self.name=input(\"Enter name: \")\n",
    "        self.age=float(input(\"Enter age: \"))\n",
    "        self.salary=float(input(\"Enter salary: \"))\n",
    "    def displayDetails(self):\n",
    "        print(\"----------------------------\")\n",
    "        print(\"Name: \",self.name)\n",
    "        print(\"Age: \",self.age)\n",
    "        print(\"Salary: \",self.salary)\n",
    "        print(\"----------------------------\")\n",
    "    def updateDetails(self):\n",
    "        self.name=input(\"Enter name: \")\n",
    "        self.age=float(input(\"Enter age: \"))\n",
    "        self.salary=float(input(\"Enter salary: \"))\n",
    "a = employees()\n",
    "a.getEmployeeDetails()\n",
    "a.displayDetails()\n",
    "a.updateDetails()\n",
    "a.displayDetails()\n",
    "    "
   ]
  },
  {
   "cell_type": "markdown",
   "metadata": {},
   "source": [
    "### 05) Create a bank account class with methods to deposit, withdraw, and check balance."
   ]
  },
  {
   "cell_type": "code",
   "execution_count": 4,
   "metadata": {},
   "outputs": [
    {
     "name": "stdout",
     "output_type": "stream",
     "text": [
      "Hello!!! Welcome to the Deposit & Withdrawal Machine\n",
      "Enter amount to be Deposited: 10000000\n",
      "\n",
      " Amount Deposited: 10000000.0\n",
      "Enter amount to be Withdrawn: 1000\n",
      "\n",
      " You Withdrew: 1000.0\n",
      "\n",
      " Net Available Balance= 9999000.0\n"
     ]
    }
   ],
   "source": [
    "class Bank_Account:\n",
    "    def __init__(self):\n",
    "        self.balance=0\n",
    "        print(\"Hello!!! Welcome to the Deposit & Withdrawal Machine\")\n",
    "\n",
    "    def deposit(self):\n",
    "        amount=float(input(\"Enter amount to be Deposited: \"))\n",
    "        self.balance += amount\n",
    "        print(\"\\n Amount Deposited:\",amount)\n",
    "\n",
    "    def withdraw(self):\n",
    "        amount = float(input(\"Enter amount to be Withdrawn: \"))\n",
    "        if self.balance>=amount:\n",
    "            self.balance-=amount\n",
    "            print(\"\\n You Withdrew:\", amount)\n",
    "        else:\n",
    "            print(\"\\n Insufficient balance \")\n",
    "    def display(self):\n",
    "        print(\"\\n Net Available Balance=\",self.balance)\n",
    "\n",
    "s = Bank_Account()\n",
    "\n",
    "s.deposit()\n",
    "s.withdraw()\n",
    "s.display()"
   ]
  },
  {
   "cell_type": "markdown",
   "metadata": {},
   "source": [
    "### 06) Create a class for managing inventory that includes attributes such as item name, price, quantity, and methods to add, remove, and update items."
   ]
  },
  {
   "cell_type": "code",
   "execution_count": 5,
   "metadata": {},
   "outputs": [],
   "source": [
    "class Managing_Inventory:\n",
    "    def getEmployeeDetails(self):\n",
    "        self.name=input(\"Enter name: \")\n",
    "        self.price=float(input(\"Enter price: \"))\n",
    "        self.quantity=float(input(\"Enter quantity: \"))\n",
    "        "
   ]
  },
  {
   "cell_type": "markdown",
   "metadata": {},
   "source": [
    "### 09) Create a Class with instance attributes"
   ]
  },
  {
   "cell_type": "code",
   "execution_count": null,
   "metadata": {},
   "outputs": [
    {
     "name": "stdout",
     "output_type": "stream",
     "text": [
      "1\n",
      "2\n",
      "2\n"
     ]
    }
   ],
   "source": [
    "class sampleclass:\n",
    "    count = 0\n",
    "\n",
    "    def increase(self):\n",
    "        sampleclass.count += 1\n",
    "\n",
    "s1 = sampleclass()\n",
    "s1.increase()\n",
    "print(s1.count)\n",
    "\n",
    "s2 = sampleclass()\n",
    "s2.increase()\n",
    "print(s2.count)\n",
    "\n",
    "print(sampleclass.count)\n"
   ]
  },
  {
   "cell_type": "markdown",
   "metadata": {},
   "source": [
    "### 07)\n",
    "Create one class student_kit <br>\n",
    "Within the student_kit class create one class attribute principal name ( Mr ABC ) <br>\n",
    "Create one attendance method and take input as number of days. <br>\n",
    "While creating student take input their name . <br>\n",
    "Create one certificate for each student by taking input of number of days present in class. <br>"
   ]
  },
  {
   "cell_type": "code",
   "execution_count": null,
   "metadata": {},
   "outputs": [],
   "source": []
  },
  {
   "cell_type": "markdown",
   "metadata": {},
   "source": [
    "### 08) Define Time class with hour and minute as data member. Also define addition method to add two time objects."
   ]
  },
  {
   "cell_type": "code",
   "execution_count": 9,
   "metadata": {},
   "outputs": [
    {
     "name": "stdout",
     "output_type": "stream",
     "text": [
      "First Time Entered:\n",
      "Enter Hour:4\n",
      "Enter Minute:6\n",
      "Second Time Entered:\n",
      "Enter Hour:22\n",
      "Enter Minute:4\n",
      "4 6\n",
      "22 4\n",
      "26 10\n"
     ]
    }
   ],
   "source": [
    "class Time:\n",
    "    def __init__(self,h,m):\n",
    "        self.h=h\n",
    "        self.m=m\n",
    "    def DisplayTime(self):\n",
    "        print(self.h,self.m)\n",
    "        \n",
    "    def AddTime(self,t1,t2):\n",
    "        self.h=t1.h+t2.h\n",
    "        self.m=t1.m+t2.m\n",
    "print(\"First Time Entered:\")\n",
    "h1=int(input(\"Enter Hour1:\"))\n",
    "m1=int(input(\"Enter Minute1:\"))\n",
    "\n",
    "print(\"Second Time Entered:\")\n",
    "h2=int(input(\"Enter Hour2:\"))\n",
    "m2=int(input(\"Enter Minute2:\"))\n",
    "\n",
    "t1=Time(h1,m1)\n",
    "t2=Time(h2,m2)\n",
    "t3=Time(0,0)\n",
    "\n",
    "t3.AddTime(t1,t2)\n",
    "\n",
    "t1.DisplayTime()\n",
    "t2.DisplayTime()\n",
    "t3.DisplayTime()"
   ]
  },
  {
   "cell_type": "markdown",
   "metadata": {},
   "source": [
    "### 09) WAP to demonstrate inheritance in python."
   ]
  },
  {
   "cell_type": "code",
   "execution_count": 11,
   "metadata": {},
   "outputs": [
    {
     "name": "stdout",
     "output_type": "stream",
     "text": [
      "Archi 102\n"
     ]
    }
   ],
   "source": [
    "class Person(object):\n",
    "   \n",
    "  def __init__(self, name, id):\n",
    "    self.name = name\n",
    "    self.id = id\n",
    " \n",
    "  def Display(self):\n",
    "    print(self.name, self.id)\n",
    " \n",
    " \n",
    "emp = Person(\"Archi\", 102)\n",
    "emp.Display()"
   ]
  },
  {
   "cell_type": "markdown",
   "metadata": {},
   "source": [
    "### 10) Create a child class Bus that will inherit all of the variables and methods of the Vehicle class\n",
    "class Vehicle:\n",
    "\n",
    "    def __init__(self, name, max_speed, mileage):\n",
    "        self.name = name\n",
    "        self.max_speed = max_speed\n",
    "        self.mileage = mileage\n",
    "        \n",
    "Create a Bus object that will inherit all of the variables and methods of the parent Vehicle class and display it.        "
   ]
  },
  {
   "cell_type": "code",
   "execution_count": null,
   "metadata": {},
   "outputs": [],
   "source": []
  },
  {
   "cell_type": "markdown",
   "metadata": {},
   "source": [
    "### 11)  Create a class hierarchy for different types of animals, with a parent Animal class and child classes for specific animals like Cat, Dog, and Bird."
   ]
  },
  {
   "cell_type": "code",
   "execution_count": 1,
   "metadata": {},
   "outputs": [
    {
     "name": "stdout",
     "output_type": "stream",
     "text": [
      "Animal class\n",
      "Cat=\n",
      "Animal class\n",
      "Dog=\n",
      "Animal class\n",
      "Bird=\n"
     ]
    }
   ],
   "source": [
    "class Animal:\n",
    "    def fun1(self):\n",
    "        print(\"Animal class\")\n",
    "\n",
    "class Cat(Animal):\n",
    "    def fun2(self):\n",
    "        print(\"Cat=\")\n",
    "        \n",
    "class Dog(Animal):\n",
    "    def fun3(self):\n",
    "        print(\"Dog=\")\n",
    "        \n",
    "class Bird(Animal):\n",
    "    def fun4(self):\n",
    "        print(\"Bird=\") \n",
    "        \n",
    "obj1=Cat()\n",
    "obj2=Dog()\n",
    "obj3=Bird()\n",
    "\n",
    "obj1.fun1()\n",
    "obj1.fun2()\n",
    "\n",
    "obj2.fun1()\n",
    "obj2.fun3()\n",
    "\n",
    "obj3.fun1()\n",
    "obj3.fun4()"
   ]
  },
  {
   "cell_type": "markdown",
   "metadata": {},
   "source": [
    "### 12) Create a class hierarchy for different types of vehicles, with a parent Vehicle class and child classes for specific vehicles like Car, Truck, and Motorcycle."
   ]
  },
  {
   "cell_type": "code",
   "execution_count": 2,
   "metadata": {},
   "outputs": [
    {
     "name": "stdout",
     "output_type": "stream",
     "text": [
      "Vehicle class\n",
      "Car:\n",
      "Vehicle class\n",
      "Truck:\n",
      "Vehicle class\n",
      "Motorcycle:\n"
     ]
    }
   ],
   "source": [
    "class Vehicle:\n",
    "    def fun1(self):\n",
    "        print(\"Vehicle class\")\n",
    "    \n",
    "class Car(Vehicle):\n",
    "    def fun2(self):\n",
    "        print(\"Car:\")\n",
    "    \n",
    "class Truck(Vehicle):\n",
    "    def fun3(self):\n",
    "        print(\"Truck:\")\n",
    "    \n",
    "class Motorcycle(Vehicle):\n",
    "    def fun4(self):\n",
    "        print(\"Motorcycle:\")\n",
    "        \n",
    "obj1=Car()\n",
    "obj2=Truck()\n",
    "obj3=Motorcycle()\n",
    "\n",
    "obj1.fun1()\n",
    "obj1.fun2()\n",
    "\n",
    "obj2.fun1()\n",
    "obj2.fun3()\n",
    "\n",
    "obj3.fun1()\n",
    "obj3.fun4()"
   ]
  },
  {
   "cell_type": "markdown",
   "metadata": {},
   "source": [
    "### 13)  Create a class hierarchy for different types of bank accounts, with a parent Account class and child classes for specific account types like Checking, Savings, and Credit."
   ]
  },
  {
   "cell_type": "code",
   "execution_count": 3,
   "metadata": {},
   "outputs": [
    {
     "name": "stdout",
     "output_type": "stream",
     "text": [
      "Account class\n",
      "Checking:\n",
      "Account class\n",
      "Savings:\n",
      "Account class\n",
      "Credit:\n"
     ]
    }
   ],
   "source": [
    "class Account:\n",
    "    def fun1(self):\n",
    "        print(\"Account class\")\n",
    "    \n",
    "class Checking(Account):\n",
    "    def fun2(self):\n",
    "        print(\"Checking:\")\n",
    "    \n",
    "class Savings(Account):\n",
    "    def fun3(self):\n",
    "        print(\"Savings:\")\n",
    "    \n",
    "class Credit(Account):\n",
    "    def fun4(self):\n",
    "        print(\"Credit:\")\n",
    "        \n",
    "obj1=Checking()\n",
    "obj2=Savings()\n",
    "obj3=Credit()\n",
    "\n",
    "obj1.fun1()\n",
    "obj1.fun2()\n",
    "\n",
    "obj2.fun1()\n",
    "obj2.fun3()\n",
    "\n",
    "obj3.fun1()\n",
    "obj3.fun4()"
   ]
  },
  {
   "cell_type": "markdown",
   "metadata": {},
   "source": [
    "### 14) Create a Shape class with a draw method that is not implemented. Create three child classes Rectangle, Circle, and Triangle that implement the draw method with their respective drawing behaviors. Create a list of Shape objects that includes one instance of each child class, and then iterate through the list and call the draw method on each object."
   ]
  },
  {
   "cell_type": "code",
   "execution_count": null,
   "metadata": {},
   "outputs": [],
   "source": []
  },
  {
   "cell_type": "markdown",
   "metadata": {},
   "source": [
    "### 15) Create a Person class with a constructor that takes two arguments name and age. Create a child class Employee that inherits from Person and adds a new attribute salary. Override the __init__ method in Employee to call the parent class's __init__ method using the super keyword, and then initialize the salary attribute."
   ]
  },
  {
   "cell_type": "code",
   "execution_count": null,
   "metadata": {},
   "outputs": [],
   "source": []
  }
 ],
 "metadata": {
  "kernelspec": {
   "display_name": "Python 3 (ipykernel)",
   "language": "python",
   "name": "python3"
  },
  "language_info": {
   "codemirror_mode": {
    "name": "ipython",
    "version": 3
   },
   "file_extension": ".py",
   "mimetype": "text/x-python",
   "name": "python",
   "nbconvert_exporter": "python",
   "pygments_lexer": "ipython3",
   "version": "3.9.13"
  },
  "vscode": {
   "interpreter": {
    "hash": "f1cbc9b3396aca8082bbb3e25968da6f88777d453b1af3d76596006268d9685c"
   }
  }
 },
 "nbformat": 4,
 "nbformat_minor": 4
}
