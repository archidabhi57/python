{
 "cells": [
  {
   "cell_type": "markdown",
   "metadata": {},
   "source": [
    "\n",
    "<a href='https://www.darshan.ac.in/'> <img src='https://www.darshan.ac.in/Content/media/DU_Logo.svg' width=\"250\" height=\"300\"/></a>\n",
    "<pre>\n",
    "<center><b><h1>Python Programming - 2101CS405</b></center>\n",
    "<center><b><h1>Lab - 5</b></center>    \n",
    "<pre>"
   ]
  },
  {
   "cell_type": "markdown",
   "metadata": {},
   "source": [
    "# list"
   ]
  },
  {
   "cell_type": "markdown",
   "metadata": {},
   "source": [
    "### 01) WAP to find sum of all the elements in List."
   ]
  },
  {
   "cell_type": "code",
   "execution_count": 2,
   "metadata": {},
   "outputs": [
    {
     "name": "stdout",
     "output_type": "stream",
     "text": [
      "Enter size of the list:4\n",
      "Enter element:1\n",
      "Enter element:2\n",
      "Enter element:3\n",
      "Enter element:5\n",
      "[1, 2, 3, 5]\n",
      "Sum of all elements: 11\n"
     ]
    }
   ],
   "source": [
    "n = int(input('Enter size of the list:'))\n",
    "sum=0\n",
    "list=[]\n",
    "for i in range(n):\n",
    "    x=int(input('Enter element:'))\n",
    "    list.append(x)\n",
    "    sum=sum+x\n",
    "print(list)\n",
    "print(\"Sum of all elements:\",sum)"
   ]
  },
  {
   "cell_type": "markdown",
   "metadata": {},
   "source": [
    "### 02) WAP to find largest element in a List."
   ]
  },
  {
   "cell_type": "code",
   "execution_count": 3,
   "metadata": {},
   "outputs": [
    {
     "name": "stdout",
     "output_type": "stream",
     "text": [
      "Enter size of the list:5\n",
      "Enter element:2\n",
      "Enter element:8\n",
      "Enter element:9\n",
      "Enter element:5\n",
      "Enter element:3\n",
      "largest no in list is : 9\n"
     ]
    }
   ],
   "source": [
    "n=int(input(\"Enter size of the list:\"))\n",
    "list=[]\n",
    "for i in range(n):\n",
    "    x=int(input(\"Enter element:\"))\n",
    "    list.append(x)\n",
    "    list.sort()\n",
    "print(\"largest no in list is :\",list[-1])"
   ]
  },
  {
   "cell_type": "markdown",
   "metadata": {},
   "source": [
    "### 03) WAP to split the List into two and append the first part to the end."
   ]
  },
  {
   "cell_type": "code",
   "execution_count": 5,
   "metadata": {},
   "outputs": [
    {
     "name": "stdout",
     "output_type": "stream",
     "text": [
      "Enter size of the list:5\n",
      "Enter element:2\n",
      "[2]\n",
      "Enter element:5\n",
      "[2, 5]\n",
      "Enter element:6\n",
      "[2, 5, 6]\n",
      "Enter element:8\n",
      "[2, 5, 6, 8]\n",
      "Enter element:2\n",
      "[2, 5, 6, 8, 2]\n",
      "6 8 2 2 5 "
     ]
    }
   ],
   "source": [
    "n=int(input(\"Enter size of the list:\"))\n",
    "list=[]\n",
    "for i in range(n):\n",
    "    x=int(input(\"Enter element:\"))\n",
    "    list.append(x)\n",
    "    print(list)\n",
    "a=list[: int (len(list)/2)]\n",
    "b=list[int (len(list)/2):]\n",
    "b.extend(a)\n",
    "for i in b:\n",
    "    print(i,end=' ')"
   ]
  },
  {
   "cell_type": "markdown",
   "metadata": {},
   "source": [
    "# 04) WAP to interchange first and last elements in list entered by a user."
   ]
  },
  {
   "cell_type": "code",
   "execution_count": 7,
   "metadata": {},
   "outputs": [
    {
     "name": "stdout",
     "output_type": "stream",
     "text": [
      "Enter Size of list:4\n",
      "Enter Element:2\n",
      "Enter Element:5\n",
      "Enter Element:6\n",
      "Enter Element:9\n",
      "[9, 5, 6, 2]\n"
     ]
    }
   ],
   "source": [
    "n = int(input(\"Enter Size of list:\"))\n",
    "list=[]\n",
    "for i in range(n):\n",
    "    x = int(input(\"Enter Element:\"))\n",
    "    list.append(x)\n",
    "temp=list[-1]\n",
    "list[-1]=list[0]\n",
    "list[0] =temp\n",
    "print(list)"
   ]
  },
  {
   "cell_type": "markdown",
   "metadata": {},
   "source": [
    "### 05) WAP to interchange the elements on two positions entered by a user."
   ]
  },
  {
   "cell_type": "code",
   "execution_count": 10,
   "metadata": {},
   "outputs": [
    {
     "name": "stdout",
     "output_type": "stream",
     "text": [
      "Enter Size of list:4\n",
      "Enter Element:1\n",
      "Enter Element:2\n",
      "Enter Element:3\n",
      "Enter Element:4\n",
      "Enter First Postion:1\n",
      "Enter Second Position:3\n",
      "[1, 4, 3, 2]\n"
     ]
    }
   ],
   "source": [
    "n = int(input(\"Enter Size of list:\"))\n",
    "list=[]\n",
    "for i in range(n):\n",
    "    x = int(input(\"Enter Element:\"))\n",
    "    list.append(x)\n",
    "a=int(input(\"Enter First Postion:\"))\n",
    "b=int(input(\"Enter Second Position:\"))\n",
    "temp=list[a]\n",
    "list[a]=list[b]\n",
    "list[b] =temp\n",
    "print(list)"
   ]
  },
  {
   "cell_type": "markdown",
   "metadata": {},
   "source": [
    "### 06) WAP to reverses the list entered by user."
   ]
  },
  {
   "cell_type": "code",
   "execution_count": 12,
   "metadata": {},
   "outputs": [
    {
     "name": "stdout",
     "output_type": "stream",
     "text": [
      "Enter Size of list:5\n",
      "Enter Element:1\n",
      "Enter Element:23\n",
      "Enter Element:5\n",
      "Enter Element:4\n",
      "Enter Element:5\n",
      "[5, 4, 5, 23, 1]\n"
     ]
    }
   ],
   "source": [
    "n = int(input(\"Enter Size of list:\"))\n",
    "list=[]\n",
    "for i in range(n):\n",
    "    x = int(input(\"Enter Element:\"))\n",
    "    list.append(x)\n",
    "list.reverse()\n",
    "print(list)"
   ]
  },
  {
   "cell_type": "markdown",
   "metadata": {},
   "source": [
    "### 07) Python program to remove multiple elements from a list using list comprehension"
   ]
  },
  {
   "cell_type": "code",
   "execution_count": 32,
   "metadata": {},
   "outputs": [
    {
     "name": "stdout",
     "output_type": "stream",
     "text": [
      "Enter Size of list:5\n",
      "Enter Element:10\n",
      "Enter Element:2\n",
      "Enter Element:3\n",
      "Enter Element:6\n",
      "Enter Element:55\n",
      "[10, 55]\n"
     ]
    }
   ],
   "source": [
    "n = int(input(\"Enter Size of list:\"))\n",
    "list=[]\n",
    "for i in range(n):\n",
    "    x = int(input(\"Enter Element:\"))\n",
    "    list.append(x)  \n",
    "list2=[]\n",
    "for i in range(0,n):\n",
    "    if(list[i]<=10):\n",
    "        list2.append(list[i])\n",
    "print(list2)"
   ]
  },
  {
   "cell_type": "code",
   "execution_count": 33,
   "metadata": {},
   "outputs": [
    {
     "name": "stdout",
     "output_type": "stream",
     "text": [
      "Enter Size of list:5\n",
      "Enter Element:1\n",
      "Enter Element:2\n",
      "Enter Element:11\n",
      "Enter Element:22\n",
      "Enter Element:33\n",
      "[1, 2]\n"
     ]
    }
   ],
   "source": [
    "n = int(input(\"Enter Size of list:\"))\n",
    "list=[]\n",
    "for i in range(n):\n",
    "    x = int(input(\"Enter Element:\"))\n",
    "    list.append(x)  \n",
    "list2=[]\n",
    "list2 = [i for i in list if i<=10]\n",
    "print(list2)"
   ]
  },
  {
   "cell_type": "markdown",
   "metadata": {},
   "source": [
    "### 08) Create a list from the specified start to end index of another list."
   ]
  },
  {
   "cell_type": "code",
   "execution_count": null,
   "metadata": {},
   "outputs": [],
   "source": [
    "n = int(input(\"Enter Size of list:\"))\n",
    "list=[]\n",
    "for i in range(n):\n",
    "    x = int(input(\"Enter Element:\"))\n",
    "    list.append(x)\n",
    "    \n"
   ]
  },
  {
   "cell_type": "markdown",
   "metadata": {},
   "source": [
    "### 09) Input comma separated elements, convert into list and print."
   ]
  },
  {
   "cell_type": "code",
   "execution_count": 21,
   "metadata": {},
   "outputs": [
    {
     "name": "stdout",
     "output_type": "stream",
     "text": [
      "Enter String:2,5,4,5\n",
      "['2', '5', '4', '5']\n"
     ]
    }
   ],
   "source": [
    "string=input(\"Enter String:\")\n",
    "x=string.split(\",\")\n",
    "print(x)"
   ]
  },
  {
   "cell_type": "markdown",
   "metadata": {},
   "source": [
    "### 01) WAP to count Even and Odd numbers in a List."
   ]
  },
  {
   "cell_type": "code",
   "execution_count": 19,
   "metadata": {},
   "outputs": [
    {
     "name": "stdout",
     "output_type": "stream",
     "text": [
      "Enter Size of list:5\n",
      "Enter Element:2\n",
      "Enter Element:3\n",
      "Enter Element:5\n",
      "Enter Element:6\n",
      "Enter Element:4\n",
      "[2, 3, 5, 6, 4]\n",
      "Even Numebr: 3\n",
      "Odd Number: 2\n"
     ]
    }
   ],
   "source": [
    "n = int(input(\"Enter Size of list:\"))\n",
    "list=[]\n",
    "for i in range(n):\n",
    "    x = int(input(\"Enter Element:\"))\n",
    "    list.append(x)\n",
    "print(list)\n",
    "even=0\n",
    "odd=0\n",
    "for i in range(0,n):\n",
    "    if(list[i]%2==0):\n",
    "        even +=1\n",
    "    else:\n",
    "        odd +=1\n",
    "print(\"Even Numebr:\",even)\n",
    "print(\"Odd Number:\",odd)"
   ]
  },
  {
   "cell_type": "markdown",
   "metadata": {},
   "source": [
    "### 02) Python program to find N largest and smallest elements from the list"
   ]
  },
  {
   "cell_type": "code",
   "execution_count": null,
   "metadata": {},
   "outputs": [],
   "source": [
    "n=int(input(\"Enter size of the list:\"))\n",
    "li=[]\n",
    "for i in range(n):\n",
    "    x=int(input(\"Enter element:\"))\n",
    "    li.append(x)\n",
    "li.sort()\n",
    "x=int(input(\"Enter the value of N:\"))\n",
    "for i in range(0,x):\n",
    "    print(\"Smallest :\",li[0])\n",
    "    print(\"Lagest :\",li[-1])\n",
    "    li.pop()\n",
    "    li.pop(0)"
   ]
  },
  {
   "cell_type": "markdown",
   "metadata": {},
   "source": [
    "### 03) WAP to print duplicates from a list of integers"
   ]
  },
  {
   "cell_type": "code",
   "execution_count": null,
   "metadata": {},
   "outputs": [],
   "source": [
    "n=int(input(\"Enter size of the list:\"))\n",
    "li=[]\n",
    "for i in range(n):\n",
    "    x=int(input(\"Enter element:\"))\n",
    "    li.append(x)\n",
    "for i in range(0,len(li)):\n",
    "    for j in range(i+1,len(li)):\n",
    "        if(li[i]==li[j]):\n",
    "            print(\"Duplicate element is:\",li[j])"
   ]
  },
  {
   "cell_type": "code",
   "execution_count": null,
   "metadata": {},
   "outputs": [],
   "source": []
  }
 ],
 "metadata": {
  "kernelspec": {
   "display_name": "Python 3 (ipykernel)",
   "language": "python",
   "name": "python3"
  },
  "language_info": {
   "codemirror_mode": {
    "name": "ipython",
    "version": 3
   },
   "file_extension": ".py",
   "mimetype": "text/x-python",
   "name": "python",
   "nbconvert_exporter": "python",
   "pygments_lexer": "ipython3",
   "version": "3.9.13"
  }
 },
 "nbformat": 4,
 "nbformat_minor": 4
}
