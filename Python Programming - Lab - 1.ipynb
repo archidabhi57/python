{
 "cells": [
  {
   "cell_type": "markdown",
   "metadata": {},
   "source": [
    "<a href='https://www.darshan.ac.in/'> <img src='https://www.darshan.ac.in/Content/media/DU_Logo.svg' width=\"250\" height=\"300\"/></a>\n",
    "<pre>\n",
    "<center><b><h1>Python Programming - 2101CS405</b></center>\n",
    "<center><b><h1>Lab - 1</b></center>    \n",
    "<pre>"
   ]
  },
  {
   "cell_type": "markdown",
   "metadata": {},
   "source": [
    "### 01) WAP to print “Hello World”"
   ]
  },
  {
   "cell_type": "code",
   "execution_count": 3,
   "metadata": {},
   "outputs": [
    {
     "name": "stdout",
     "output_type": "stream",
     "text": [
      "Hello World\n"
     ]
    }
   ],
   "source": [
    "print('Hello World')"
   ]
  },
  {
   "cell_type": "markdown",
   "metadata": {},
   "source": [
    "### 02) WAP to print your address i) using single print ii) using multiple print"
   ]
  },
  {
   "cell_type": "code",
   "execution_count": 1,
   "metadata": {},
   "outputs": [
    {
     "name": "stdout",
     "output_type": "stream",
     "text": [
      "Speedwell Party plot,\n",
      "Ambika township ,\n",
      "rajkot\n",
      "Speedwell Party plot,\n",
      "Ambika township,\n",
      "rajkot\n"
     ]
    }
   ],
   "source": [
    "print('Speedwell Party plot,')\n",
    "print('Ambika township,')\n",
    "print('rajkot')\n",
    "\n",
    "print('Speedwell Party plot,\\nAmbika township,\\nrajkot')"
   ]
  },
  {
   "cell_type": "markdown",
   "metadata": {},
   "source": [
    "### 03) WAP to print addition of 2 numbers (without input function)"
   ]
  },
  {
   "cell_type": "code",
   "execution_count": 2,
   "metadata": {},
   "outputs": [
    {
     "name": "stdout",
     "output_type": "stream",
     "text": [
      "30\n"
     ]
    }
   ],
   "source": [
    "num1 = 10\n",
    "num2 = 20\n",
    "print(num1+num2)"
   ]
  },
  {
   "cell_type": "markdown",
   "metadata": {},
   "source": [
    "### 04) WAP to calculate and print average of 2 numbers (without input function)"
   ]
  },
  {
   "cell_type": "code",
   "execution_count": 4,
   "metadata": {},
   "outputs": [
    {
     "name": "stdout",
     "output_type": "stream",
     "text": [
      "35.0\n"
     ]
    }
   ],
   "source": [
    "num1 = 30\n",
    "num2 = 40\n",
    "sum = num1 + num2\n",
    "average = sum/2\n",
    "print(average)"
   ]
  },
  {
   "cell_type": "markdown",
   "metadata": {},
   "source": [
    "### 05) WAP to add two number entered by user."
   ]
  },
  {
   "cell_type": "code",
   "execution_count": 1,
   "metadata": {},
   "outputs": [
    {
     "name": "stdout",
     "output_type": "stream",
     "text": [
      "17\n"
     ]
    }
   ],
   "source": [
    "num1 = int(input(\"Enter number 1 = \"))\n",
    "num2 = int(input(\"Enter number 2 = \"))\n",
    "\n",
    "sum = num1+num2\n",
    "print(sum)"
   ]
  },
  {
   "cell_type": "markdown",
   "metadata": {},
   "source": [
    "### 06) WAP to calculate simple interest."
   ]
  },
  {
   "cell_type": "code",
   "execution_count": 3,
   "metadata": {},
   "outputs": [
    {
     "name": "stdout",
     "output_type": "stream",
     "text": [
      "9264.4\n"
     ]
    }
   ],
   "source": [
    "amount = int(input(\"Enter the amount =\"))\n",
    "year = int(input(\"Enter the year =\"))\n",
    "rate = float(input(\"Enter the rate =\"))\n",
    "\n",
    "simpleInterest = (amount*year*rate)/100\n",
    "\n",
    "print(simpleInterest)"
   ]
  },
  {
   "cell_type": "markdown",
   "metadata": {},
   "source": [
    "### 07) WAP Calculate Area and Circumfrence of Circle"
   ]
  },
  {
   "cell_type": "code",
   "execution_count": 7,
   "metadata": {},
   "outputs": [
    {
     "name": "stdout",
     "output_type": "stream",
     "text": [
      "Area of circle 19.625\n",
      "circum of circle 15.700000000000001\n"
     ]
    }
   ],
   "source": [
    "radius = float(input(\"Enter radius\"))\n",
    "\n",
    "areaOfCircle = (3.14*radius*radius)\n",
    "print('Area of circle',areaOfCircle)\n",
    "\n",
    "circumferenceOfCircle = 2*3.14*radius\n",
    "print('circum of circle',circumferenceOfCircle)"
   ]
  },
  {
   "attachments": {},
   "cell_type": "markdown",
   "metadata": {},
   "source": [
    "08) WAP to print Multiplication table of given number without using loops."
   ]
  },
  {
   "cell_type": "code",
   "execution_count": 22,
   "metadata": {},
   "outputs": [
    {
     "name": "stdout",
     "output_type": "stream",
     "text": [
      "15\n",
      "30\n",
      "45\n",
      "60\n",
      "75\n",
      "90\n",
      "105\n",
      "120\n",
      "135\n",
      "150\n"
     ]
    }
   ],
   "source": [
    "a =  int(input(\"Enter number\"))\n",
    "\n",
    "print(a*1)\n",
    "print(a*2)\n",
    "print(a*3)\n",
    "print(a*4)\n",
    "print(a*5)\n",
    "print(a*6)\n",
    "print(a*7)\n",
    "print(a*8)\n",
    "print(a*9)\n",
    "print(a*10)"
   ]
  },
  {
   "cell_type": "markdown",
   "metadata": {},
   "source": [
    "### 09) WAP to calculate Area of Triangle (hint: a = h * b * 0.5)"
   ]
  },
  {
   "cell_type": "code",
   "execution_count": 8,
   "metadata": {},
   "outputs": [
    {
     "name": "stdout",
     "output_type": "stream",
     "text": [
      "Area of triangle 1.325\n"
     ]
    }
   ],
   "source": [
    "height = float(input(\"Enter height = \"))\n",
    "breadth = float(input(\"Enter breadth\"))\n",
    "\n",
    "a = height*breadth*0.5\n",
    "print('Area of triangle',a)"
   ]
  },
  {
   "cell_type": "markdown",
   "metadata": {},
   "source": [
    "### 10) WAP to convert degree to Fahrenheit and vice versa."
   ]
  },
  {
   "cell_type": "code",
   "execution_count": 15,
   "metadata": {},
   "outputs": [
    {
     "name": "stdout",
     "output_type": "stream",
     "text": [
      "28.88888888888889\n"
     ]
    }
   ],
   "source": [
    "Celsius = float(input(\"Enter celsius \"))\n",
    "\n",
    "Fahrenheit = (Celsius*1.8)+32\n",
    "\n",
    "print(Fahrenheit)\n",
    "\n",
    "Fahrenheit = float(input(\"Enter Fahrenheit \"))\n",
    "\n",
    "Celsius = (Fahrenheit - 32)/1.8\n",
    "\n",
    "print(Celsius)"
   ]
  },
  {
   "cell_type": "markdown",
   "metadata": {},
   "source": [
    "### 11) WAP to calculate total marks and Percentage."
   ]
  },
  {
   "cell_type": "code",
   "execution_count": 14,
   "metadata": {},
   "outputs": [
    {
     "name": "stdout",
     "output_type": "stream",
     "text": [
      "Total Marks =  37\n",
      "Percentage 6.166666666666667\n"
     ]
    }
   ],
   "source": [
    "m1 = int(input(\"Enter mark1 = \"))\n",
    "m2 = int(input(\"Enter mark2 = \"))\n",
    "m3 = int(input(\"Enter mark3 = \"))\n",
    "m4 = int(input(\"Enter mark4 = \"))\n",
    "m5 = int(input(\"Enter mark5 = \"))\n",
    "m6 = int(input(\"Enter mark6 = \"))\n",
    "\n",
    "total = m1+m2+m3+m4+m5+m6\n",
    "print('Total Marks = ',total)\n",
    "\n",
    "percentage = (total/600)*100\n",
    "print('Percentage' ,percentage)"
   ]
  },
  {
   "cell_type": "markdown",
   "metadata": {},
   "source": [
    "### 12) Compute distance between two points taking input from the user (Pythagorean Theorem)."
   ]
  },
  {
   "cell_type": "code",
   "execution_count": 16,
   "metadata": {},
   "outputs": [
    {
     "name": "stdout",
     "output_type": "stream",
     "text": [
      "distance between (4, 6) and (0, 6) is :  6.324555320336759\n"
     ]
    }
   ],
   "source": [
    "import math\n",
    "x1=int(input(\"enter x1 : \"))\n",
    "\n",
    "x2=int(input(\"enter x2 : \"))\n",
    "\n",
    "y1=int(input(\"enter y1 : \"))\n",
    "\n",
    "y2=int(input(\"enter y2 : \"))\n",
    "\n",
    "Distance = ((((x2 - x1 )**2) + ((y2-y1)**2) )**0.5)\n",
    "\n",
    "print(\"distance between\",(x1,x2),\"and\",(y1,y2),\"is : \",Distance)"
   ]
  },
  {
   "cell_type": "markdown",
   "metadata": {},
   "source": [
    "### 13) WAP to convert seconds into hours, minutes & seconds and print in HH:MM:SS\n",
    "[e.g. 10000 seconds mean 2:46:40 (2 Hours, 46 Minutes, 40Seconds)]"
   ]
  },
  {
   "cell_type": "code",
   "execution_count": 17,
   "metadata": {},
   "outputs": [
    {
     "name": "stdout",
     "output_type": "stream",
     "text": [
      "3:30:01\n"
     ]
    }
   ],
   "source": [
    "seconds = 12601\n",
    "\n",
    "seconds = seconds % (24 * 3600)\n",
    "hour = seconds // 3600\n",
    "seconds %= 3600\n",
    "minutes = seconds // 60\n",
    "seconds %= 60\n",
    "\n",
    "print(\"%d:%02d:%02d\" % (hour, minutes, seconds))\n",
    "\n"
   ]
  },
  {
   "cell_type": "markdown",
   "metadata": {},
   "source": [
    "### 14) WAP to enter distance into kilometer and convert it into meter, feet,inches, and centimeter"
   ]
  },
  {
   "cell_type": "code",
   "execution_count": 20,
   "metadata": {},
   "outputs": [
    {
     "name": "stdout",
     "output_type": "stream",
     "text": [
      "Meter 5300.0\n",
      "Feet 17006.852\n",
      "Inches 208661.53\n",
      "Centimeter 530000.0\n"
     ]
    }
   ],
   "source": [
    "kilometer = float(input(\"Enter km=\"))\n",
    "\n",
    "meter = kilometer *1000\n",
    "print('Meter',meter)\n",
    "feet = kilometer* 3208.84\n",
    "print(\"Feet\",feet)\n",
    "inches = kilometer * 39370.1\n",
    "print(\"Inches\",inches)\n",
    "centimeter = kilometer * 100000\n",
    "print(\"Centimeter\",centimeter)\n",
    "\n"
   ]
  }
 ],
 "metadata": {
  "kernelspec": {
   "display_name": "Python 3.11.0 64-bit",
   "language": "python",
   "name": "python3"
  },
  "language_info": {
   "codemirror_mode": {
    "name": "ipython",
    "version": 3
   },
   "file_extension": ".py",
   "mimetype": "text/x-python",
   "name": "python",
   "nbconvert_exporter": "python",
   "pygments_lexer": "ipython3",
   "version": "3.11.0 (main, Oct 24 2022, 18:26:48) [MSC v.1933 64 bit (AMD64)]"
  },
  "vscode": {
   "interpreter": {
    "hash": "f1cbc9b3396aca8082bbb3e25968da6f88777d453b1af3d76596006268d9685c"
   }
  }
 },
 "nbformat": 4,
 "nbformat_minor": 4
}
