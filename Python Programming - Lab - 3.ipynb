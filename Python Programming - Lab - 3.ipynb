{
 "cells": [
  {
   "cell_type": "markdown",
   "metadata": {},
   "source": [
    "\n",
    "<a href='https://www.darshan.ac.in/'> <img src='https://www.darshan.ac.in/Content/media/DU_Logo.svg' width=\"250\" height=\"300\"/></a>\n",
    "<pre>\n",
    "<center><b><h1>Python Programming - 2101CS405</b></center>\n",
    "<center><b><h1>Lab - 3</b></center>    \n",
    "<pre>"
   ]
  },
  {
   "cell_type": "markdown",
   "metadata": {},
   "source": [
    "# for and while loop"
   ]
  },
  {
   "cell_type": "markdown",
   "metadata": {},
   "source": [
    "### 01) WAP to print 1 to 10"
   ]
  },
  {
   "cell_type": "code",
   "execution_count": 3,
   "metadata": {},
   "outputs": [
    {
     "name": "stdout",
     "output_type": "stream",
     "text": [
      "1\n",
      "2\n",
      "3\n",
      "4\n",
      "5\n",
      "6\n",
      "7\n",
      "8\n",
      "9\n",
      "10\n"
     ]
    }
   ],
   "source": [
    "for i in range(1,11):\n",
    "    print(i)"
   ]
  },
  {
   "cell_type": "markdown",
   "metadata": {},
   "source": [
    "### 02) WAP to print 1 to n"
   ]
  },
  {
   "cell_type": "code",
   "execution_count": 4,
   "metadata": {},
   "outputs": [
    {
     "name": "stdout",
     "output_type": "stream",
     "text": [
      "Enter Number=5\n",
      "1\n",
      "2\n",
      "3\n",
      "4\n",
      "5\n"
     ]
    }
   ],
   "source": [
    "i =1\n",
    "n = int(input(\"Enter Number=\"))\n",
    "while(i<=n):\n",
    "    print(i)\n",
    "    i +=1"
   ]
  },
  {
   "cell_type": "markdown",
   "metadata": {},
   "source": [
    "### 03) WAP to print odd numbers between 1 to n"
   ]
  },
  {
   "cell_type": "code",
   "execution_count": 9,
   "metadata": {},
   "outputs": [
    {
     "name": "stdout",
     "output_type": "stream",
     "text": [
      "Enter Number=5\n",
      "Odd numbers between 1 to 5\n",
      "1\n",
      "3\n",
      "5\n"
     ]
    }
   ],
   "source": [
    "i =1\n",
    "n = int(input(\"Enter Number=\"))\n",
    "print(\"Odd numbers between 1 to\",n)\n",
    "while(i<=n):\n",
    "    if(i%2!=0):\n",
    "        print(i)\n",
    "   \n",
    "    i +=1"
   ]
  },
  {
   "cell_type": "markdown",
   "metadata": {},
   "source": [
    "### 04) WAP to print numbers between two given numbers which is divisible by 2 but not divisible by 3"
   ]
  },
  {
   "cell_type": "code",
   "execution_count": 15,
   "metadata": {},
   "outputs": [
    {
     "name": "stdout",
     "output_type": "stream",
     "text": [
      "Enter Number1 =5\n",
      "Enter number2 = 9\n",
      "8\n"
     ]
    }
   ],
   "source": [
    "n1 = int(input(\"Enter Number1 =\"))\n",
    "n2 = int(input(\"Enter number2 = \"))\n",
    "\n",
    "for i in range(n1,n2):\n",
    "    if(i%2==0 and i%3!=0):\n",
    "        print(i)"
   ]
  },
  {
   "cell_type": "markdown",
   "metadata": {},
   "source": [
    "### 05) WAP to print sum of 1 to n numbers"
   ]
  },
  {
   "cell_type": "code",
   "execution_count": 18,
   "metadata": {},
   "outputs": [
    {
     "name": "stdout",
     "output_type": "stream",
     "text": [
      "Enter Number =5\n",
      "15\n"
     ]
    }
   ],
   "source": [
    "i=1\n",
    "sum =0\n",
    "n = int(input(\"Enter Number =\"))\n",
    "\n",
    "for i in range(1,n+1):\n",
    "    sum =sum+i\n",
    "print(sum)"
   ]
  },
  {
   "cell_type": "markdown",
   "metadata": {},
   "source": [
    "### 06) WAP to print sum of series 1 + 4 + 9 + 16 + 25 + 36 + ...n"
   ]
  },
  {
   "cell_type": "code",
   "execution_count": 20,
   "metadata": {},
   "outputs": [
    {
     "name": "stdout",
     "output_type": "stream",
     "text": [
      "Enter Number = 2\n",
      "Sum of series 5\n"
     ]
    }
   ],
   "source": [
    "i=1\n",
    "sum=0\n",
    "n = int(input(\"Enter Number = \"))\n",
    "\n",
    "while(i<=n):\n",
    "    sum = sum +(i**i)\n",
    "    i+=1\n",
    "\n",
    "print(\"Sum of series\",sum)\n"
   ]
  },
  {
   "cell_type": "markdown",
   "metadata": {},
   "source": [
    "### 07) WAP to print sum of series 1 – 2 + 3 – 4 + 5 – 6 + 7 ... n"
   ]
  },
  {
   "cell_type": "code",
   "execution_count": null,
   "metadata": {},
   "outputs": [],
   "source": [
    "i=1\n",
    "n = int(input(\"Enter Number =\"))\n",
    "sum = 0\n",
    "while(i<=n):\n",
    "    if(i%2==0):\n",
    "        sum = sum-i\n",
    "        i +=1\n",
    "\n",
    "    else:\n",
    "        sum = sum+i\n",
    "        i +=1\n",
    "print(\"Sum\",sum)\n"
   ]
  },
  {
   "cell_type": "markdown",
   "metadata": {},
   "source": [
    "### 08) WAP to print multiplication table of given number."
   ]
  },
  {
   "cell_type": "code",
   "execution_count": 28,
   "metadata": {},
   "outputs": [
    {
     "name": "stdout",
     "output_type": "stream",
     "text": [
      "Enter Number =5\n",
      "5 x 1 = 5\n",
      "5 x 2 = 10\n",
      "5 x 3 = 15\n",
      "5 x 4 = 20\n",
      "5 x 5 = 25\n",
      "5 x 6 = 30\n",
      "5 x 7 = 35\n",
      "5 x 8 = 40\n",
      "5 x 9 = 45\n",
      "5 x 10 = 50\n"
     ]
    }
   ],
   "source": [
    "number = int(input(\"Enter Number =\"))\n",
    "for i in range(1,11):\n",
    "    print(number, \"x\", i ,\"=\",number * i)"
   ]
  },
  {
   "cell_type": "markdown",
   "metadata": {},
   "source": [
    "### 09) WAP to find factorial of the given number"
   ]
  },
  {
   "cell_type": "code",
   "execution_count": 34,
   "metadata": {},
   "outputs": [
    {
     "name": "stdout",
     "output_type": "stream",
     "text": [
      "Enter number =5\n",
      "Factorial = 120\n"
     ]
    }
   ],
   "source": [
    "n = int(input(\"Enter number =\"))\n",
    "no = 1\n",
    "\n",
    "for i in range(1,n+1):\n",
    "    no = no*i\n",
    "print(\"Factorial =\",no)"
   ]
  },
  {
   "cell_type": "markdown",
   "metadata": {},
   "source": [
    "### 10) WAP to find factors of the given number"
   ]
  },
  {
   "cell_type": "code",
   "execution_count": 3,
   "metadata": {},
   "outputs": [
    {
     "name": "stdout",
     "output_type": "stream",
     "text": [
      "1\n",
      "2\n",
      "3\n",
      "4\n",
      "6\n",
      "12\n"
     ]
    }
   ],
   "source": [
    "i =1\n",
    "n = int(input(\"Enter number =\"))\n",
    "while(i<=n):\n",
    "    if(n%i==0):\n",
    "        print(i)\n",
    "    i+=1"
   ]
  },
  {
   "cell_type": "markdown",
   "metadata": {},
   "source": [
    "### 11) WAP to find whether the given number is prime or not."
   ]
  },
  {
   "cell_type": "code",
   "execution_count": 53,
   "metadata": {},
   "outputs": [
    {
     "name": "stdout",
     "output_type": "stream",
     "text": [
      "Enter Number =5\n",
      "Number is prime\n"
     ]
    }
   ],
   "source": [
    "n = int(input(\"Enter Number =\"))\n",
    "i=2\n",
    "flag=0\n",
    "while(i<=n/2):\n",
    "    if(n%i==0):\n",
    "        flag=1\n",
    "        break\n",
    "    i+=1\n",
    "if(flag==0):\n",
    "    print(\"Number is prime\")\n",
    "else:\n",
    "    print(\"Number is not prime\")"
   ]
  },
  {
   "cell_type": "markdown",
   "metadata": {},
   "source": [
    "### 12) WAP to print sum of digits of given number"
   ]
  },
  {
   "cell_type": "code",
   "execution_count": 64,
   "metadata": {},
   "outputs": [
    {
     "name": "stdout",
     "output_type": "stream",
     "text": [
      "Enter Number =123\n",
      "6\n"
     ]
    }
   ],
   "source": [
    "sum=0\n",
    "n = int(input(\"Enter Number =\"))\n",
    "remainder=0\n",
    "while(n>0):\n",
    "    remainder=n%10\n",
    "    sum=sum+remainder\n",
    "    n//=10\n",
    "print(sum)"
   ]
  },
  {
   "cell_type": "markdown",
   "metadata": {},
   "source": [
    "### 13) WAP to check whether the given number is palindrome or not"
   ]
  },
  {
   "cell_type": "code",
   "execution_count": 69,
   "metadata": {},
   "outputs": [
    {
     "name": "stdout",
     "output_type": "stream",
     "text": [
      "Enter number =12\n",
      "Not Palindrome\n"
     ]
    }
   ],
   "source": [
    "a=0\n",
    "n = int(input(\"Enter number =\"))\n",
    "temp = n\n",
    "while(n>0):\n",
    "    d = n%10\n",
    "    a = a*10+d\n",
    "    n = n/10\n",
    "    \n",
    "if(temp==a):\n",
    "    print(\"Palindrome\")\n",
    "else:\n",
    "    print(\"Not Palindrome\")"
   ]
  },
  {
   "cell_type": "markdown",
   "metadata": {},
   "source": [
    "### 01) WAP to check whether the given number is Armstrong or not."
   ]
  },
  {
   "cell_type": "code",
   "execution_count": 76,
   "metadata": {},
   "outputs": [
    {
     "name": "stdout",
     "output_type": "stream",
     "text": [
      "Enter Number =371\n",
      "Not Armstrong\n"
     ]
    }
   ],
   "source": [
    "sum=0\n",
    "n = int(input(\"Enter Number =\"))\n",
    "temp =n\n",
    "while(temp>0):\n",
    "    d =temp%10 \n",
    "    sum += d**3\n",
    "    temp = temp/10\n",
    "if(n==sum):\n",
    "    print(\"Number is Armstrong\")\n",
    "else:\n",
    "    print(\"Not Armstrong\")"
   ]
  },
  {
   "cell_type": "markdown",
   "metadata": {},
   "source": [
    "### 02) WAP to find out prime numbers between given two numbers."
   ]
  },
  {
   "cell_type": "code",
   "execution_count": 80,
   "metadata": {},
   "outputs": [
    {
     "name": "stdout",
     "output_type": "stream",
     "text": [
      "Enter Number =1\n",
      "Enter Number =9\n",
      "2\n",
      "3\n",
      "5\n",
      "7\n"
     ]
    }
   ],
   "source": [
    "n = int(input(\"Enter Number 1 =\"))\n",
    "m = int(input(\"Enter Number 2 =\"))\n",
    "for i in range(n,m):\n",
    "    if(i>1):\n",
    "        for j in range(2,i):\n",
    "            if(i%j==0):\n",
    "                break\n",
    "        else:\n",
    "            print(i)"
   ]
  },
  {
   "cell_type": "markdown",
   "metadata": {},
   "source": [
    "### 03) WAP to calculate x^y without using any function."
   ]
  },
  {
   "cell_type": "code",
   "execution_count": 6,
   "metadata": {},
   "outputs": [
    {
     "name": "stdout",
     "output_type": "stream",
     "text": [
      "8\n"
     ]
    }
   ],
   "source": [
    "i=1\n",
    "sum=1\n",
    "x = int(input(\"Enter x:\"))\n",
    "y = int(input(\"Enter y:\"))\n",
    "\n",
    "while(i<=y):\n",
    "    sum = sum*x\n",
    "    i +=1\n",
    "print(sum)"
   ]
  },
  {
   "cell_type": "markdown",
   "metadata": {},
   "source": [
    "### 04) WAP to check whether the given number is perfect or not.\n",
    "[Sum of factors including 1 excluding number itself]"
   ]
  },
  {
   "cell_type": "code",
   "execution_count": 5,
   "metadata": {},
   "outputs": [
    {
     "name": "stdout",
     "output_type": "stream",
     "text": [
      "Perfect Number\n"
     ]
    }
   ],
   "source": [
    "i=1\n",
    "n = int(input(\"Enter number =\"))\n",
    "sum=0\n",
    "\n",
    "while(i<=n):\n",
    "    if(n%i==0):\n",
    "        sum = sum+i\n",
    "    i+=1\n",
    "    if(sum==n):\n",
    "        print(\"Perfect Number\")\n",
    "    else:\n",
    "        print(\"Not perfect number\")\n"
   ]
  },
  {
   "cell_type": "markdown",
   "metadata": {},
   "source": [
    "### 05) WAP to find the sum of 1 + (1+2) + (1+2+3) + (1+2+3+4)+...+(1+2+3+4+....+n)"
   ]
  },
  {
   "cell_type": "code",
   "execution_count": 83,
   "metadata": {},
   "outputs": [
    {
     "name": "stdout",
     "output_type": "stream",
     "text": [
      "Enter number =2\n",
      "4\n"
     ]
    }
   ],
   "source": [
    "n = int(input(\"Enter number =\"))\n",
    "sum=0\n",
    "for i in range(1,n+1):\n",
    "    for j in range(1,i+1):\n",
    "        sum +=j\n",
    "print(sum)"
   ]
  },
  {
   "cell_type": "markdown",
   "metadata": {},
   "source": [
    "### 06) WAP to print Multiplication Table up to n"
   ]
  },
  {
   "cell_type": "code",
   "execution_count": 3,
   "metadata": {},
   "outputs": [
    {
     "name": "stdout",
     "output_type": "stream",
     "text": [
      "5 x 1 = 5\n",
      "5 x 2 = 10\n",
      "5 x 3 = 15\n",
      "5 x 4 = 20\n",
      "5 x 5 = 25\n"
     ]
    }
   ],
   "source": [
    "number = int(input(\"Enter Number =\"))\n",
    "m =int(input(\"Enter Number till multiple=\"))\n",
    "for i in range(1,m+1):\n",
    "    print(number, \"x\", i ,\"=\",number * i)"
   ]
  },
  {
   "cell_type": "code",
   "execution_count": 18,
   "metadata": {},
   "outputs": [
    {
     "name": "stdout",
     "output_type": "stream",
     "text": [
      "Archi \n",
      "Manav\n"
     ]
    }
   ],
   "source": [
    "f = open('cde.txt','w')\n",
    "f.write(\"Archi \\nManav\")\n",
    "f.close()\n",
    "f = open('cde.txt','r')\n",
    "lines = f.read()\n",
    "print(lines)"
   ]
  },
  {
   "cell_type": "code",
   "execution_count": 3,
   "metadata": {},
   "outputs": [
    {
     "name": "stdout",
     "output_type": "stream",
     "text": [
      "archi\n",
      "\n",
      "manav\n",
      "\n",
      "rhydham\n",
      "\n",
      "nidhi\n",
      "\n",
      "dipesh\n"
     ]
    }
   ],
   "source": [
    "f = open('abc.txt')\n",
    "lines = f.readlines()\n",
    "for l in lines:\n",
    "    print(l)"
   ]
  },
  {
   "cell_type": "code",
   "execution_count": 22,
   "metadata": {},
   "outputs": [
    {
     "name": "stdout",
     "output_type": "stream",
     "text": [
      "\n",
      "mana\n",
      "chi\n",
      "m\n"
     ]
    }
   ],
   "source": [
    "f = open('abc.txt','r')\n",
    "f.seek(5)\n",
    "data = f.read(5)\n",
    "print(data)\n",
    "f.seek(2)\n",
    "data = f.read(5)\n",
    "print(data)"
   ]
  }
 ],
 "metadata": {
  "kernelspec": {
   "display_name": "Python 3 (ipykernel)",
   "language": "python",
   "name": "python3"
  },
  "language_info": {
   "codemirror_mode": {
    "name": "ipython",
    "version": 3
   },
   "file_extension": ".py",
   "mimetype": "text/x-python",
   "name": "python",
   "nbconvert_exporter": "python",
   "pygments_lexer": "ipython3",
   "version": "3.9.13"
  },
  "vscode": {
   "interpreter": {
    "hash": "f1cbc9b3396aca8082bbb3e25968da6f88777d453b1af3d76596006268d9685c"
   }
  }
 },
 "nbformat": 4,
 "nbformat_minor": 4
}
